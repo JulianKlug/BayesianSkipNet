{
 "cells": [
  {
   "cell_type": "markdown",
   "metadata": {
    "collapsed": true,
    "pycharm": {
     "name": "#%% md\n"
    }
   },
   "source": [
    "# Creating prior knowledge masks (Penumbra & Core)\n",
    "Penumbra and Core are known at time of acute imaging and are essential components to the final infarct. Integrating these priors in a model could yield better results.\n",
    "\n",
    "One Perfusion imaging:\n",
    "- Penumbra is defined with Tmax > 6s\n",
    "- Core is defined as rCBF < 30%"
   ]
  },
  {
   "cell_type": "code",
   "execution_count": 24,
   "metadata": {
    "pycharm": {
     "name": "#%%\n"
    }
   },
   "outputs": [],
   "source": [
    "import sys, os\n",
    "sys.path.insert(0, '../')\n",
    "import numpy as np\n",
    "from gsprep.visual_tools.visual import display, idisplay\n",
    "from gsprep.tools.segmentation.ct_brain_extraction import ct_brain_extraction\n",
    "from scipy.ndimage.filters import gaussian_filter\n",
    "import scipy.ndimage.morphology as ndimage\n",
    "from skimage.morphology import ball"
   ]
  },
  {
   "cell_type": "code",
   "execution_count": 25,
   "metadata": {
    "pycharm": {
     "name": "#%%\n"
    }
   },
   "outputs": [
    {
     "data": {
      "text/plain": [
       "(144, 79, 95, 79, 5)"
      ]
     },
     "execution_count": 25,
     "metadata": {},
     "output_type": "execute_result"
    }
   ],
   "source": [
    "dataset_path = '/Users/julian/temp/perfusion_data_sets/rescaled_with_ncct_dataset.npz'\n",
    "n_subj = 144\n",
    "\n",
    "raw_images = np.load(dataset_path, allow_pickle=True)['ct_inputs'][:n_subj].astype(np.float64)\n",
    "raw_labels = np.load(dataset_path, allow_pickle=True)['ct_lesion_GT'][:n_subj].astype(np.uint8)\n",
    "# raw_labels = np.load(dataset_path, allow_pickle=True)['lesion_GT'][:n_subj].astype(np.float64)\n",
    "raw_mask = np.load(dataset_path, allow_pickle=True)['brain_masks'][:n_subj]\n",
    "params = np.load(dataset_path, allow_pickle=True)['params']\n",
    "\n",
    "n_subj, n_x, n_y, n_z, n_c = raw_images.shape\n",
    "raw_images.shape"
   ]
  },
  {
   "cell_type": "markdown",
   "metadata": {
    "pycharm": {
     "is_executing": true,
     "name": "#%% md\n"
    }
   },
   "source": [
    "Define helper functions\n",
    "\n"
   ]
  },
  {
   "cell_type": "code",
   "execution_count": 26,
   "metadata": {
    "pycharm": {
     "name": "#%%\n"
    }
   },
   "outputs": [],
   "source": [
    "def gaussian_smoothing(data, kernel_width=5, threeD=False):\n",
    "    '''\n",
    "    Smooth a set of n images with a 2D gaussian kernel on their x, y planes iterating through z\n",
    "    if threeD is set to false; Every plane in z is smoothed independently\n",
    "    Every channel is smoothed independently\n",
    "    :param data: images to smooth (n, x, y, z, c)\n",
    "    :param kernel_width: 2D or 3D kernel width\n",
    "        Default width is 5 vxl - (stroke dataset: 10mm width), ie. 5mm radius as inspired by\n",
    "        Campbell Bruce C.V., Christensen Søren, Levi Christopher R., Desmond Patricia M., Donnan Geoffrey A., Davis Stephen M., et al. Cerebral Blood Flow Is the Optimal CT Perfusion Parameter for Assessing Infarct Core. Stroke. 2011 Dec 1;42(12):3435–40.\n",
    "    :param threeD, default False: exert smoothing in all 3 spatial dimensions and not only 2\n",
    "    :return: smoothed_data\n",
    "    '''\n",
    "    if len(data.shape) != 5:\n",
    "        raise ValueError('Shape of data to smooth should be (n, x, y, z, c) and not', data.shape)\n",
    "\n",
    "    sigma = kernel_width / 3\n",
    "    truncate = ((kernel_width - 1) / 2 - 0.5) / sigma\n",
    "    smoothed_data = np.empty(data.shape)\n",
    "\n",
    "    for i in range(data.shape[0]):\n",
    "        for c in range(data.shape[4]):\n",
    "            if not threeD:\n",
    "                for z in range(data.shape[3]):\n",
    "                    smoothed_data[i, :, :, z, c] = gaussian_filter(data[i, :, :, z, c], kernel_width / 3,\n",
    "                                                                   truncate=truncate)\n",
    "            else:\n",
    "                smoothed_data[i, :, :, :, c] = gaussian_filter(data[i, :, :, :, c], kernel_width/3, truncate=truncate)\n",
    "\n",
    "    return smoothed_data\n",
    "\n",
    "\n",
    "def normalise_by_contralateral_median(data):\n",
    "    '''\n",
    "    Normalise an image by dividing every voxel by the median voxel value of the contralateral side\n",
    "    :param data: image input data for all subjects in form of an np array [n_subj, x, y, z, c]\n",
    "    :return: normalised array\n",
    "    '''\n",
    "\n",
    "    normalised_data = np.empty(data.shape)\n",
    "\n",
    "    for subj in range(data.shape[0]):\n",
    "        subj_data = data[subj]\n",
    "        subj_normalised_data = subj_data.copy()\n",
    "        x_center = subj_data.shape[0] // 2\n",
    "        left_side_set_off = x_center\n",
    "        if subj_data.shape[0] % 2 == 0:\n",
    "            # if number voxels along x is even, split in the middle\n",
    "            right_side_set_off = x_center\n",
    "        else:\n",
    "            # if number voxels along x is uneven leave out the middle voxel line\n",
    "            right_side_set_off = x_center + 1\n",
    "\n",
    "        # normalise left side\n",
    "        right_side = subj_data[right_side_set_off:]\n",
    "        right_side_median = np.median(right_side[np.nonzero(right_side)])\n",
    "        subj_normalised_data[:left_side_set_off] = np.divide(subj_data[:left_side_set_off], right_side_median)\n",
    "\n",
    "        # normalise right side\n",
    "        left_side = subj_data[:left_side_set_off]\n",
    "        left_side_median = np.median(left_side[np.nonzero(left_side)])\n",
    "        subj_normalised_data[right_side_set_off:] = np.divide(subj_data[right_side_set_off:], left_side_median)\n",
    "\n",
    "        if subj_data.shape[0] % 2 != 0:\n",
    "            x_para_median_slices_mean = np.mean([\n",
    "                                            np.mean(subj_data[x_center - 1][np.nonzero(subj_data[x_center - 1])]),\n",
    "                                            np.mean(subj_data[x_center + 1][np.nonzero(subj_data[x_center + 1])])\n",
    "                                        ])\n",
    "            subj_normalised_data[x_center] = np.divide(subj_data[x_center], x_para_median_slices_mean)\n",
    "\n",
    "        normalised_data[subj] = subj_normalised_data\n",
    "\n",
    "    return normalised_data"
   ]
  },
  {
   "cell_type": "markdown",
   "metadata": {
    "pycharm": {
     "name": "#%% md\n"
    }
   },
   "source": [
    "## Create CSF mask\n",
    "\n",
    "As false negative CSF masks can be harmful to the model, a safety margins is added and the csf mask is enlarged."
   ]
  },
  {
   "cell_type": "code",
   "execution_count": 27,
   "metadata": {
    "pycharm": {
     "name": "#%%\n"
    }
   },
   "outputs": [
    {
     "data": {
      "text/plain": [
       "(144, 79, 95, 79)"
      ]
     },
     "execution_count": 27,
     "metadata": {},
     "output_type": "execute_result"
    }
   ],
   "source": [
    "ncct_channel = 4\n",
    "threshold = 20\n",
    "csf_mask = gaussian_smoothing(raw_images[..., ncct_channel, None], kernel_width=3) < threshold\n",
    "enlarged_csf_mask = np.array([ndimage.binary_dilation(csf_mask[idx, ..., 0], structure=ball(2)) for idx in range(csf_mask.shape[0])])\n",
    "inv_csf_mask = -1 * enlarged_csf_mask + 1\n",
    "inv_csf_mask.shape"
   ]
  },
  {
   "cell_type": "code",
   "execution_count": 28,
   "metadata": {
    "pycharm": {
     "name": "#%%\n"
    }
   },
   "outputs": [
    {
     "name": "stdout",
     "output_type": "stream",
     "text": [
      "Image center:  39 47 39\n",
      "Image center value:  26.0\n"
     ]
    },
    {
     "data": {
      "image/png": "[encoded data removed]",
      "text/plain": [
       "<Figure size 1440x360 with 3 Axes>"
      ]
     },
     "metadata": {
      "needs_background": "light"
     },
     "output_type": "display_data"
    }
   ],
   "source": [
    "display(raw_images[0, ..., 4], mask=enlarged_csf_mask[0])"
   ]
  },
  {
   "cell_type": "markdown",
   "metadata": {
    "pycharm": {
     "name": "#%% md\n"
    }
   },
   "source": [
    "## Create a skull mask\n"
   ]
  },
  {
   "cell_type": "code",
   "execution_count": null,
   "metadata": {
    "pycharm": {
     "is_executing": true,
     "name": "#%%\n"
    }
   },
   "outputs": [
    {
     "name": "stdout",
     "output_type": "stream",
     "text": [
      "200809-08:38:47,139 nipype.interface INFO:\n",
      "\t stderr 2020-08-09T08:38:47.139282:/usr/local/fsl/bin/bet: line 151: /bin/remove_ext: No such file or directory\n",
      "200809-08:38:47,141 nipype.interface INFO:\n",
      "\t stderr 2020-08-09T08:38:47.141418:/usr/local/fsl/bin/bet: line 152: /bin/remove_ext: No such file or directory\n",
      "200809-08:38:47,142 nipype.interface INFO:\n",
      "\t stderr 2020-08-09T08:38:47.141418:/usr/local/fsl/bin/bet: line 154: /bin/imtest: No such file or directory\n",
      "200809-08:38:47,142 nipype.interface INFO:\n",
      "\t stderr 2020-08-09T08:38:47.141418:/usr/local/fsl/bin/bet: line 154: [: =: unary operator expected\n",
      "200809-08:38:47,143 nipype.interface INFO:\n",
      "\t stderr 2020-08-09T08:38:47.143430:/usr/local/fsl/bin/bet: line 236: /bin/bet2: No such file or directory\n",
      "200809-08:38:49,706 nipype.interface INFO:\n",
      "\t stderr 2020-08-09T08:38:49.706215:/usr/local/fsl/bin/bet: line 151: /bin/remove_ext: No such file or directory\n",
      "200809-08:38:49,707 nipype.interface INFO:\n",
      "\t stderr 2020-08-09T08:38:49.707944:/usr/local/fsl/bin/bet: line 152: /bin/remove_ext: No such file or directory\n",
      "200809-08:38:49,708 nipype.interface INFO:\n",
      "\t stderr 2020-08-09T08:38:49.707944:/usr/local/fsl/bin/bet: line 154: /bin/imtest: No such file or directory\n",
      "200809-08:38:49,709 nipype.interface INFO:\n",
      "\t stderr 2020-08-09T08:38:49.707944:/usr/local/fsl/bin/bet: line 154: [: =: unary operator expected\n",
      "200809-08:38:49,709 nipype.interface INFO:\n",
      "\t stderr 2020-08-09T08:38:49.709899:/usr/local/fsl/bin/bet: line 236: /bin/bet2: No such file or directory\n",
      "200809-08:38:52,225 nipype.interface INFO:\n",
      "\t stderr 2020-08-09T08:38:52.224790:/usr/local/fsl/bin/bet: line 151: /bin/remove_ext: No such file or directory\n",
      "200809-08:38:52,226 nipype.interface INFO:\n",
      "\t stderr 2020-08-09T08:38:52.226622:/usr/local/fsl/bin/bet: line 152: /bin/remove_ext: No such file or directory\n",
      "200809-08:38:52,227 nipype.interface INFO:\n",
      "\t stderr 2020-08-09T08:38:52.226622:/usr/local/fsl/bin/bet: line 154: /bin/imtest: No such file or directory\n",
      "200809-08:38:52,227 nipype.interface INFO:\n",
      "\t stderr 2020-08-09T08:38:52.226622:/usr/local/fsl/bin/bet: line 154: [: =: unary operator expected\n",
      "200809-08:38:52,229 nipype.interface INFO:\n",
      "\t stderr 2020-08-09T08:38:52.229098:/usr/local/fsl/bin/bet: line 236: /bin/bet2: No such file or directory\n",
      "200809-08:38:54,781 nipype.interface INFO:\n",
      "\t stderr 2020-08-09T08:38:54.781113:/usr/local/fsl/bin/bet: line 151: /bin/remove_ext: No such file or directory\n",
      "200809-08:38:54,823 nipype.interface INFO:\n",
      "\t stderr 2020-08-09T08:38:54.823515:/usr/local/fsl/bin/bet: line 152: /bin/remove_ext: No such file or directory\n",
      "200809-08:38:54,847 nipype.interface INFO:\n",
      "\t stderr 2020-08-09T08:38:54.823515:/usr/local/fsl/bin/bet: line 154: /bin/imtest: No such file or directory\n",
      "200809-08:38:54,848 nipype.interface INFO:\n",
      "\t stderr 2020-08-09T08:38:54.823515:/usr/local/fsl/bin/bet: line 154: [: =: unary operator expected\n",
      "200809-08:38:54,849 nipype.interface INFO:\n",
      "\t stderr 2020-08-09T08:38:54.849797:/usr/local/fsl/bin/bet: line 236: /bin/bet2: No such file or directory\n",
      "200809-08:38:58,49 nipype.interface INFO:\n",
      "\t stderr 2020-08-09T08:38:58.048879:/usr/local/fsl/bin/bet: line 151: /bin/remove_ext: No such file or directory\n",
      "200809-08:38:58,52 nipype.interface INFO:\n",
      "\t stderr 2020-08-09T08:38:58.052485:/usr/local/fsl/bin/bet: line 152: /bin/remove_ext: No such file or directory\n",
      "200809-08:38:58,55 nipype.interface INFO:\n",
      "\t stderr 2020-08-09T08:38:58.055873:/usr/local/fsl/bin/bet: line 154: /bin/imtest: No such file or directory\n",
      "200809-08:38:58,57 nipype.interface INFO:\n",
      "\t stderr 2020-08-09T08:38:58.057036:/usr/local/fsl/bin/bet: line 154: [: =: unary operator expected\n",
      "200809-08:38:58,60 nipype.interface INFO:\n",
      "\t stderr 2020-08-09T08:38:58.060335:/usr/local/fsl/bin/bet: line 236: /bin/bet2: No such file or directory\n",
      "200809-08:39:00,633 nipype.interface INFO:\n",
      "\t stderr 2020-08-09T08:39:00.632932:/usr/local/fsl/bin/bet: line 151: /bin/remove_ext: No such file or directory\n",
      "200809-08:39:00,634 nipype.interface INFO:\n",
      "\t stderr 2020-08-09T08:39:00.634765:/usr/local/fsl/bin/bet: line 152: /bin/remove_ext: No such file or directory\n",
      "200809-08:39:00,635 nipype.interface INFO:\n",
      "\t stderr 2020-08-09T08:39:00.634765:/usr/local/fsl/bin/bet: line 154: /bin/imtest: No such file or directory\n",
      "200809-08:39:00,636 nipype.interface INFO:\n",
      "\t stderr 2020-08-09T08:39:00.634765:/usr/local/fsl/bin/bet: line 154: [: =: unary operator expected\n",
      "200809-08:39:00,636 nipype.interface INFO:\n",
      "\t stderr 2020-08-09T08:39:00.636758:/usr/local/fsl/bin/bet: line 236: /bin/bet2: No such file or directory\n",
      "200809-08:39:03,133 nipype.interface INFO:\n",
      "\t stderr 2020-08-09T08:39:03.133028:/usr/local/fsl/bin/bet: line 151: /bin/remove_ext: No such file or directory\n",
      "200809-08:39:03,134 nipype.interface INFO:\n",
      "\t stderr 2020-08-09T08:39:03.134832:/usr/local/fsl/bin/bet: line 152: /bin/remove_ext: No such file or directory\n",
      "200809-08:39:03,135 nipype.interface INFO:\n",
      "\t stderr 2020-08-09T08:39:03.134832:/usr/local/fsl/bin/bet: line 154: /bin/imtest: No such file or directory\n",
      "200809-08:39:03,136 nipype.interface INFO:\n",
      "\t stderr 2020-08-09T08:39:03.134832:/usr/local/fsl/bin/bet: line 154: [: =: unary operator expected\n",
      "200809-08:39:03,136 nipype.interface INFO:\n",
      "\t stderr 2020-08-09T08:39:03.136965:/usr/local/fsl/bin/bet: line 236: /bin/bet2: No such file or directory\n",
      "200809-08:39:05,614 nipype.interface INFO:\n",
      "\t stderr 2020-08-09T08:39:05.614468:/usr/local/fsl/bin/bet: line 151: /bin/remove_ext: No such file or directory\n",
      "200809-08:39:05,616 nipype.interface INFO:\n",
      "\t stderr 2020-08-09T08:39:05.616338:/usr/local/fsl/bin/bet: line 152: /bin/remove_ext: No such file or directory\n",
      "200809-08:39:05,617 nipype.interface INFO:\n",
      "\t stderr 2020-08-09T08:39:05.616338:/usr/local/fsl/bin/bet: line 154: /bin/imtest: No such file or directory\n",
      "200809-08:39:05,617 nipype.interface INFO:\n",
      "\t stderr 2020-08-09T08:39:05.616338:/usr/local/fsl/bin/bet: line 154: [: =: unary operator expected\n",
      "200809-08:39:05,618 nipype.interface INFO:\n",
      "\t stderr 2020-08-09T08:39:05.618249:/usr/local/fsl/bin/bet: line 236: /bin/bet2: No such file or directory\n",
      "200809-08:39:08,183 nipype.interface INFO:\n",
      "\t stderr 2020-08-09T08:39:08.183655:/usr/local/fsl/bin/bet: line 151: /bin/remove_ext: No such file or directory\n",
      "200809-08:39:08,185 nipype.interface INFO:\n",
      "\t stderr 2020-08-09T08:39:08.185735:/usr/local/fsl/bin/bet: line 152: /bin/remove_ext: No such file or directory\n",
      "200809-08:39:08,186 nipype.interface INFO:\n",
      "\t stderr 2020-08-09T08:39:08.185735:/usr/local/fsl/bin/bet: line 154: /bin/imtest: No such file or directory\n",
      "200809-08:39:08,187 nipype.interface INFO:\n",
      "\t stderr 2020-08-09T08:39:08.185735:/usr/local/fsl/bin/bet: line 154: [: =: unary operator expected\n",
      "200809-08:39:08,188 nipype.interface INFO:\n",
      "\t stderr 2020-08-09T08:39:08.188198:/usr/local/fsl/bin/bet: line 236: /bin/bet2: No such file or directory\n",
      "200809-08:39:10,693 nipype.interface INFO:\n",
      "\t stderr 2020-08-09T08:39:10.693516:/usr/local/fsl/bin/bet: line 151: /bin/remove_ext: No such file or directory\n",
      "200809-08:39:10,695 nipype.interface INFO:\n",
      "\t stderr 2020-08-09T08:39:10.695348:/usr/local/fsl/bin/bet: line 152: /bin/remove_ext: No such file or directory\n",
      "200809-08:39:10,696 nipype.interface INFO:\n",
      "\t stderr 2020-08-09T08:39:10.695348:/usr/local/fsl/bin/bet: line 154: /bin/imtest: No such file or directory\n",
      "200809-08:39:10,696 nipype.interface INFO:\n",
      "\t stderr 2020-08-09T08:39:10.695348:/usr/local/fsl/bin/bet: line 154: [: =: unary operator expected\n",
      "200809-08:39:10,698 nipype.interface INFO:\n",
      "\t stderr 2020-08-09T08:39:10.698200:/usr/local/fsl/bin/bet: line 236: /bin/bet2: No such file or directory\n",
      "200809-08:39:13,396 nipype.interface INFO:\n",
      "\t stderr 2020-08-09T08:39:13.396312:/usr/local/fsl/bin/bet: line 151: /bin/remove_ext: No such file or directory\n",
      "200809-08:39:13,398 nipype.interface INFO:\n",
      "\t stderr 2020-08-09T08:39:13.398613:/usr/local/fsl/bin/bet: line 152: /bin/remove_ext: No such file or directory\n",
      "200809-08:39:13,399 nipype.interface INFO:\n",
      "\t stderr 2020-08-09T08:39:13.398613:/usr/local/fsl/bin/bet: line 154: /bin/imtest: No such file or directory\n",
      "200809-08:39:13,399 nipype.interface INFO:\n",
      "\t stderr 2020-08-09T08:39:13.398613:/usr/local/fsl/bin/bet: line 154: [: =: unary operator expected\n",
      "200809-08:39:13,400 nipype.interface INFO:\n",
      "\t stderr 2020-08-09T08:39:13.400296:/usr/local/fsl/bin/bet: line 236: /bin/bet2: No such file or directory\n"
     ]
    },
    {
     "name": "stdout",
     "output_type": "stream",
     "text": [
      "200809-08:39:15,934 nipype.interface INFO:\n",
      "\t stderr 2020-08-09T08:39:15.934423:/usr/local/fsl/bin/bet: line 151: /bin/remove_ext: No such file or directory\n",
      "200809-08:39:15,936 nipype.interface INFO:\n",
      "\t stderr 2020-08-09T08:39:15.936311:/usr/local/fsl/bin/bet: line 152: /bin/remove_ext: No such file or directory\n",
      "200809-08:39:15,937 nipype.interface INFO:\n",
      "\t stderr 2020-08-09T08:39:15.936311:/usr/local/fsl/bin/bet: line 154: /bin/imtest: No such file or directory\n",
      "200809-08:39:15,937 nipype.interface INFO:\n",
      "\t stderr 2020-08-09T08:39:15.936311:/usr/local/fsl/bin/bet: line 154: [: =: unary operator expected\n",
      "200809-08:39:15,938 nipype.interface INFO:\n",
      "\t stderr 2020-08-09T08:39:15.938426:/usr/local/fsl/bin/bet: line 236: /bin/bet2: No such file or directory\n",
      "200809-08:39:18,368 nipype.interface INFO:\n",
      "\t stderr 2020-08-09T08:39:18.368282:/usr/local/fsl/bin/bet: line 151: /bin/remove_ext: No such file or directory\n",
      "200809-08:39:18,370 nipype.interface INFO:\n",
      "\t stderr 2020-08-09T08:39:18.370123:/usr/local/fsl/bin/bet: line 152: /bin/remove_ext: No such file or directory\n",
      "200809-08:39:18,370 nipype.interface INFO:\n",
      "\t stderr 2020-08-09T08:39:18.370123:/usr/local/fsl/bin/bet: line 154: /bin/imtest: No such file or directory\n",
      "200809-08:39:18,371 nipype.interface INFO:\n",
      "\t stderr 2020-08-09T08:39:18.370123:/usr/local/fsl/bin/bet: line 154: [: =: unary operator expected\n",
      "200809-08:39:18,372 nipype.interface INFO:\n",
      "\t stderr 2020-08-09T08:39:18.371994:/usr/local/fsl/bin/bet: line 236: /bin/bet2: No such file or directory\n",
      "200809-08:39:20,903 nipype.interface INFO:\n",
      "\t stderr 2020-08-09T08:39:20.902890:/usr/local/fsl/bin/bet: line 151: /bin/remove_ext: No such file or directory\n",
      "200809-08:39:20,904 nipype.interface INFO:\n",
      "\t stderr 2020-08-09T08:39:20.904724:/usr/local/fsl/bin/bet: line 152: /bin/remove_ext: No such file or directory\n",
      "200809-08:39:20,905 nipype.interface INFO:\n",
      "\t stderr 2020-08-09T08:39:20.904724:/usr/local/fsl/bin/bet: line 154: /bin/imtest: No such file or directory\n",
      "200809-08:39:20,905 nipype.interface INFO:\n",
      "\t stderr 2020-08-09T08:39:20.904724:/usr/local/fsl/bin/bet: line 154: [: =: unary operator expected\n",
      "200809-08:39:20,906 nipype.interface INFO:\n",
      "\t stderr 2020-08-09T08:39:20.906353:/usr/local/fsl/bin/bet: line 236: /bin/bet2: No such file or directory\n",
      "200809-08:39:23,364 nipype.interface INFO:\n",
      "\t stderr 2020-08-09T08:39:23.364570:/usr/local/fsl/bin/bet: line 151: /bin/remove_ext: No such file or directory\n",
      "200809-08:39:23,366 nipype.interface INFO:\n",
      "\t stderr 2020-08-09T08:39:23.366466:/usr/local/fsl/bin/bet: line 152: /bin/remove_ext: No such file or directory\n",
      "200809-08:39:23,367 nipype.interface INFO:\n",
      "\t stderr 2020-08-09T08:39:23.366466:/usr/local/fsl/bin/bet: line 154: /bin/imtest: No such file or directory\n",
      "200809-08:39:23,367 nipype.interface INFO:\n",
      "\t stderr 2020-08-09T08:39:23.366466:/usr/local/fsl/bin/bet: line 154: [: =: unary operator expected\n",
      "200809-08:39:23,368 nipype.interface INFO:\n",
      "\t stderr 2020-08-09T08:39:23.368601:/usr/local/fsl/bin/bet: line 236: /bin/bet2: No such file or directory\n",
      "200809-08:39:25,856 nipype.interface INFO:\n",
      "\t stderr 2020-08-09T08:39:25.856183:/usr/local/fsl/bin/bet: line 151: /bin/remove_ext: No such file or directory\n",
      "200809-08:39:25,858 nipype.interface INFO:\n",
      "\t stderr 2020-08-09T08:39:25.858198:/usr/local/fsl/bin/bet: line 152: /bin/remove_ext: No such file or directory\n",
      "200809-08:39:25,858 nipype.interface INFO:\n",
      "\t stderr 2020-08-09T08:39:25.858198:/usr/local/fsl/bin/bet: line 154: /bin/imtest: No such file or directory\n",
      "200809-08:39:25,859 nipype.interface INFO:\n",
      "\t stderr 2020-08-09T08:39:25.858198:/usr/local/fsl/bin/bet: line 154: [: =: unary operator expected\n",
      "200809-08:39:25,860 nipype.interface INFO:\n",
      "\t stderr 2020-08-09T08:39:25.860059:/usr/local/fsl/bin/bet: line 236: /bin/bet2: No such file or directory\n",
      "200809-08:39:28,336 nipype.interface INFO:\n",
      "\t stderr 2020-08-09T08:39:28.336335:/usr/local/fsl/bin/bet: line 151: /bin/remove_ext: No such file or directory\n",
      "200809-08:39:28,338 nipype.interface INFO:\n",
      "\t stderr 2020-08-09T08:39:28.338112:/usr/local/fsl/bin/bet: line 152: /bin/remove_ext: No such file or directory\n",
      "200809-08:39:28,338 nipype.interface INFO:\n",
      "\t stderr 2020-08-09T08:39:28.338112:/usr/local/fsl/bin/bet: line 154: /bin/imtest: No such file or directory\n",
      "200809-08:39:28,339 nipype.interface INFO:\n",
      "\t stderr 2020-08-09T08:39:28.338112:/usr/local/fsl/bin/bet: line 154: [: =: unary operator expected\n",
      "200809-08:39:28,340 nipype.interface INFO:\n",
      "\t stderr 2020-08-09T08:39:28.340004:/usr/local/fsl/bin/bet: line 236: /bin/bet2: No such file or directory\n",
      "200809-08:39:30,792 nipype.interface INFO:\n",
      "\t stderr 2020-08-09T08:39:30.792487:/usr/local/fsl/bin/bet: line 151: /bin/remove_ext: No such file or directory\n",
      "200809-08:39:30,794 nipype.interface INFO:\n",
      "\t stderr 2020-08-09T08:39:30.794401:/usr/local/fsl/bin/bet: line 152: /bin/remove_ext: No such file or directory\n",
      "200809-08:39:30,794 nipype.interface INFO:\n",
      "\t stderr 2020-08-09T08:39:30.794401:/usr/local/fsl/bin/bet: line 154: /bin/imtest: No such file or directory\n",
      "200809-08:39:30,795 nipype.interface INFO:\n",
      "\t stderr 2020-08-09T08:39:30.794401:/usr/local/fsl/bin/bet: line 154: [: =: unary operator expected\n",
      "200809-08:39:30,796 nipype.interface INFO:\n",
      "\t stderr 2020-08-09T08:39:30.796163:/usr/local/fsl/bin/bet: line 236: /bin/bet2: No such file or directory\n",
      "200809-08:39:33,272 nipype.interface INFO:\n",
      "\t stderr 2020-08-09T08:39:33.272306:/usr/local/fsl/bin/bet: line 151: /bin/remove_ext: No such file or directory\n",
      "200809-08:39:33,274 nipype.interface INFO:\n",
      "\t stderr 2020-08-09T08:39:33.274210:/usr/local/fsl/bin/bet: line 152: /bin/remove_ext: No such file or directory\n",
      "200809-08:39:33,275 nipype.interface INFO:\n",
      "\t stderr 2020-08-09T08:39:33.274210:/usr/local/fsl/bin/bet: line 154: /bin/imtest: No such file or directory\n",
      "200809-08:39:33,275 nipype.interface INFO:\n",
      "\t stderr 2020-08-09T08:39:33.274210:/usr/local/fsl/bin/bet: line 154: [: =: unary operator expected\n",
      "200809-08:39:33,276 nipype.interface INFO:\n",
      "\t stderr 2020-08-09T08:39:33.276852:/usr/local/fsl/bin/bet: line 236: /bin/bet2: No such file or directory\n",
      "200809-08:39:35,772 nipype.interface INFO:\n",
      "\t stderr 2020-08-09T08:39:35.771813:/usr/local/fsl/bin/bet: line 151: /bin/remove_ext: No such file or directory\n",
      "200809-08:39:35,773 nipype.interface INFO:\n",
      "\t stderr 2020-08-09T08:39:35.773853:/usr/local/fsl/bin/bet: line 152: /bin/remove_ext: No such file or directory\n",
      "200809-08:39:35,774 nipype.interface INFO:\n",
      "\t stderr 2020-08-09T08:39:35.773853:/usr/local/fsl/bin/bet: line 154: /bin/imtest: No such file or directory\n",
      "200809-08:39:35,774 nipype.interface INFO:\n",
      "\t stderr 2020-08-09T08:39:35.773853:/usr/local/fsl/bin/bet: line 154: [: =: unary operator expected\n",
      "200809-08:39:35,775 nipype.interface INFO:\n",
      "\t stderr 2020-08-09T08:39:35.775545:/usr/local/fsl/bin/bet: line 236: /bin/bet2: No such file or directory\n",
      "200809-08:39:38,284 nipype.interface INFO:\n",
      "\t stderr 2020-08-09T08:39:38.284070:/usr/local/fsl/bin/bet: line 151: /bin/remove_ext: No such file or directory\n",
      "200809-08:39:38,285 nipype.interface INFO:\n",
      "\t stderr 2020-08-09T08:39:38.285886:/usr/local/fsl/bin/bet: line 152: /bin/remove_ext: No such file or directory\n",
      "200809-08:39:38,286 nipype.interface INFO:\n",
      "\t stderr 2020-08-09T08:39:38.285886:/usr/local/fsl/bin/bet: line 154: /bin/imtest: No such file or directory\n",
      "200809-08:39:38,287 nipype.interface INFO:\n",
      "\t stderr 2020-08-09T08:39:38.285886:/usr/local/fsl/bin/bet: line 154: [: =: unary operator expected\n",
      "200809-08:39:38,288 nipype.interface INFO:\n",
      "\t stderr 2020-08-09T08:39:38.288041:/usr/local/fsl/bin/bet: line 236: /bin/bet2: No such file or directory\n",
      "200809-08:39:40,902 nipype.interface INFO:\n",
      "\t stderr 2020-08-09T08:39:40.902059:/usr/local/fsl/bin/bet: line 151: /bin/remove_ext: No such file or directory\n",
      "200809-08:39:40,904 nipype.interface INFO:\n",
      "\t stderr 2020-08-09T08:39:40.904116:/usr/local/fsl/bin/bet: line 152: /bin/remove_ext: No such file or directory\n",
      "200809-08:39:40,904 nipype.interface INFO:\n",
      "\t stderr 2020-08-09T08:39:40.904116:/usr/local/fsl/bin/bet: line 154: /bin/imtest: No such file or directory\n",
      "200809-08:39:40,905 nipype.interface INFO:\n",
      "\t stderr 2020-08-09T08:39:40.904116:/usr/local/fsl/bin/bet: line 154: [: =: unary operator expected\n",
      "200809-08:39:40,905 nipype.interface INFO:\n",
      "\t stderr 2020-08-09T08:39:40.905862:/usr/local/fsl/bin/bet: line 236: /bin/bet2: No such file or directory\n"
     ]
    },
    {
     "name": "stdout",
     "output_type": "stream",
     "text": [
      "200809-08:39:43,407 nipype.interface INFO:\n",
      "\t stderr 2020-08-09T08:39:43.407579:/usr/local/fsl/bin/bet: line 151: /bin/remove_ext: No such file or directory\n",
      "200809-08:39:43,409 nipype.interface INFO:\n",
      "\t stderr 2020-08-09T08:39:43.409429:/usr/local/fsl/bin/bet: line 152: /bin/remove_ext: No such file or directory\n",
      "200809-08:39:43,410 nipype.interface INFO:\n",
      "\t stderr 2020-08-09T08:39:43.409429:/usr/local/fsl/bin/bet: line 154: /bin/imtest: No such file or directory\n",
      "200809-08:39:43,410 nipype.interface INFO:\n",
      "\t stderr 2020-08-09T08:39:43.409429:/usr/local/fsl/bin/bet: line 154: [: =: unary operator expected\n",
      "200809-08:39:43,411 nipype.interface INFO:\n",
      "\t stderr 2020-08-09T08:39:43.411361:/usr/local/fsl/bin/bet: line 236: /bin/bet2: No such file or directory\n",
      "200809-08:39:45,895 nipype.interface INFO:\n",
      "\t stderr 2020-08-09T08:39:45.894752:/usr/local/fsl/bin/bet: line 151: /bin/remove_ext: No such file or directory\n",
      "200809-08:39:45,896 nipype.interface INFO:\n",
      "\t stderr 2020-08-09T08:39:45.896717:/usr/local/fsl/bin/bet: line 152: /bin/remove_ext: No such file or directory\n",
      "200809-08:39:45,897 nipype.interface INFO:\n",
      "\t stderr 2020-08-09T08:39:45.896717:/usr/local/fsl/bin/bet: line 154: /bin/imtest: No such file or directory\n",
      "200809-08:39:45,898 nipype.interface INFO:\n",
      "\t stderr 2020-08-09T08:39:45.896717:/usr/local/fsl/bin/bet: line 154: [: =: unary operator expected\n",
      "200809-08:39:45,899 nipype.interface INFO:\n",
      "\t stderr 2020-08-09T08:39:45.899010:/usr/local/fsl/bin/bet: line 236: /bin/bet2: No such file or directory\n",
      "200809-08:39:48,588 nipype.interface INFO:\n",
      "\t stderr 2020-08-09T08:39:48.588174:/usr/local/fsl/bin/bet: line 151: /bin/remove_ext: No such file or directory\n",
      "200809-08:39:48,590 nipype.interface INFO:\n",
      "\t stderr 2020-08-09T08:39:48.590078:/usr/local/fsl/bin/bet: line 152: /bin/remove_ext: No such file or directory\n",
      "200809-08:39:48,590 nipype.interface INFO:\n",
      "\t stderr 2020-08-09T08:39:48.590078:/usr/local/fsl/bin/bet: line 154: /bin/imtest: No such file or directory\n",
      "200809-08:39:48,591 nipype.interface INFO:\n",
      "\t stderr 2020-08-09T08:39:48.590078:/usr/local/fsl/bin/bet: line 154: [: =: unary operator expected\n",
      "200809-08:39:48,592 nipype.interface INFO:\n",
      "\t stderr 2020-08-09T08:39:48.592209:/usr/local/fsl/bin/bet: line 236: /bin/bet2: No such file or directory\n",
      "200809-08:39:51,169 nipype.interface INFO:\n",
      "\t stderr 2020-08-09T08:39:51.169666:/usr/local/fsl/bin/bet: line 151: /bin/remove_ext: No such file or directory\n",
      "200809-08:39:51,171 nipype.interface INFO:\n",
      "\t stderr 2020-08-09T08:39:51.171717:/usr/local/fsl/bin/bet: line 152: /bin/remove_ext: No such file or directory\n",
      "200809-08:39:51,172 nipype.interface INFO:\n",
      "\t stderr 2020-08-09T08:39:51.171717:/usr/local/fsl/bin/bet: line 154: /bin/imtest: No such file or directory\n",
      "200809-08:39:51,172 nipype.interface INFO:\n",
      "\t stderr 2020-08-09T08:39:51.171717:/usr/local/fsl/bin/bet: line 154: [: =: unary operator expected\n",
      "200809-08:39:51,173 nipype.interface INFO:\n",
      "\t stderr 2020-08-09T08:39:51.173316:/usr/local/fsl/bin/bet: line 236: /bin/bet2: No such file or directory\n",
      "200809-08:39:53,730 nipype.interface INFO:\n",
      "\t stderr 2020-08-09T08:39:53.730569:/usr/local/fsl/bin/bet: line 151: /bin/remove_ext: No such file or directory\n",
      "200809-08:39:53,732 nipype.interface INFO:\n",
      "\t stderr 2020-08-09T08:39:53.732674:/usr/local/fsl/bin/bet: line 152: /bin/remove_ext: No such file or directory\n",
      "200809-08:39:53,733 nipype.interface INFO:\n",
      "\t stderr 2020-08-09T08:39:53.732674:/usr/local/fsl/bin/bet: line 154: /bin/imtest: No such file or directory\n",
      "200809-08:39:53,734 nipype.interface INFO:\n",
      "\t stderr 2020-08-09T08:39:53.732674:/usr/local/fsl/bin/bet: line 154: [: =: unary operator expected\n",
      "200809-08:39:53,735 nipype.interface INFO:\n",
      "\t stderr 2020-08-09T08:39:53.734994:/usr/local/fsl/bin/bet: line 236: /bin/bet2: No such file or directory\n",
      "200809-08:39:56,283 nipype.interface INFO:\n",
      "\t stderr 2020-08-09T08:39:56.283313:/usr/local/fsl/bin/bet: line 151: /bin/remove_ext: No such file or directory\n",
      "200809-08:39:56,285 nipype.interface INFO:\n",
      "\t stderr 2020-08-09T08:39:56.285189:/usr/local/fsl/bin/bet: line 152: /bin/remove_ext: No such file or directory\n",
      "200809-08:39:56,285 nipype.interface INFO:\n",
      "\t stderr 2020-08-09T08:39:56.285189:/usr/local/fsl/bin/bet: line 154: /bin/imtest: No such file or directory\n",
      "200809-08:39:56,286 nipype.interface INFO:\n",
      "\t stderr 2020-08-09T08:39:56.285189:/usr/local/fsl/bin/bet: line 154: [: =: unary operator expected\n",
      "200809-08:39:56,287 nipype.interface INFO:\n",
      "\t stderr 2020-08-09T08:39:56.287175:/usr/local/fsl/bin/bet: line 236: /bin/bet2: No such file or directory\n",
      "200809-08:39:58,868 nipype.interface INFO:\n",
      "\t stderr 2020-08-09T08:39:58.868269:/usr/local/fsl/bin/bet: line 151: /bin/remove_ext: No such file or directory\n",
      "200809-08:39:58,870 nipype.interface INFO:\n",
      "\t stderr 2020-08-09T08:39:58.870066:/usr/local/fsl/bin/bet: line 152: /bin/remove_ext: No such file or directory\n",
      "200809-08:39:58,870 nipype.interface INFO:\n",
      "\t stderr 2020-08-09T08:39:58.870066:/usr/local/fsl/bin/bet: line 154: /bin/imtest: No such file or directory\n",
      "200809-08:39:58,871 nipype.interface INFO:\n",
      "\t stderr 2020-08-09T08:39:58.870066:/usr/local/fsl/bin/bet: line 154: [: =: unary operator expected\n",
      "200809-08:39:58,872 nipype.interface INFO:\n",
      "\t stderr 2020-08-09T08:39:58.872249:/usr/local/fsl/bin/bet: line 236: /bin/bet2: No such file or directory\n",
      "200809-08:40:01,437 nipype.interface INFO:\n",
      "\t stderr 2020-08-09T08:40:01.437640:/usr/local/fsl/bin/bet: line 151: /bin/remove_ext: No such file or directory\n",
      "200809-08:40:01,439 nipype.interface INFO:\n",
      "\t stderr 2020-08-09T08:40:01.439560:/usr/local/fsl/bin/bet: line 152: /bin/remove_ext: No such file or directory\n",
      "200809-08:40:01,440 nipype.interface INFO:\n",
      "\t stderr 2020-08-09T08:40:01.439560:/usr/local/fsl/bin/bet: line 154: /bin/imtest: No such file or directory\n",
      "200809-08:40:01,440 nipype.interface INFO:\n",
      "\t stderr 2020-08-09T08:40:01.439560:/usr/local/fsl/bin/bet: line 154: [: =: unary operator expected\n",
      "200809-08:40:01,441 nipype.interface INFO:\n",
      "\t stderr 2020-08-09T08:40:01.441525:/usr/local/fsl/bin/bet: line 236: /bin/bet2: No such file or directory\n",
      "200809-08:40:04,85 nipype.interface INFO:\n",
      "\t stderr 2020-08-09T08:40:04.085430:/usr/local/fsl/bin/bet: line 151: /bin/remove_ext: No such file or directory\n",
      "200809-08:40:04,87 nipype.interface INFO:\n",
      "\t stderr 2020-08-09T08:40:04.087092:/usr/local/fsl/bin/bet: line 152: /bin/remove_ext: No such file or directory\n",
      "200809-08:40:04,87 nipype.interface INFO:\n",
      "\t stderr 2020-08-09T08:40:04.087092:/usr/local/fsl/bin/bet: line 154: /bin/imtest: No such file or directory\n",
      "200809-08:40:04,88 nipype.interface INFO:\n",
      "\t stderr 2020-08-09T08:40:04.087092:/usr/local/fsl/bin/bet: line 154: [: =: unary operator expected\n",
      "200809-08:40:04,89 nipype.interface INFO:\n",
      "\t stderr 2020-08-09T08:40:04.089005:/usr/local/fsl/bin/bet: line 236: /bin/bet2: No such file or directory\n",
      "200809-08:40:06,709 nipype.interface INFO:\n",
      "\t stderr 2020-08-09T08:40:06.709462:/usr/local/fsl/bin/bet: line 151: /bin/remove_ext: No such file or directory\n",
      "200809-08:40:06,711 nipype.interface INFO:\n",
      "\t stderr 2020-08-09T08:40:06.711304:/usr/local/fsl/bin/bet: line 152: /bin/remove_ext: No such file or directory\n",
      "200809-08:40:06,712 nipype.interface INFO:\n",
      "\t stderr 2020-08-09T08:40:06.711304:/usr/local/fsl/bin/bet: line 154: /bin/imtest: No such file or directory\n",
      "200809-08:40:06,712 nipype.interface INFO:\n",
      "\t stderr 2020-08-09T08:40:06.711304:/usr/local/fsl/bin/bet: line 154: [: =: unary operator expected\n",
      "200809-08:40:06,713 nipype.interface INFO:\n",
      "\t stderr 2020-08-09T08:40:06.713377:/usr/local/fsl/bin/bet: line 236: /bin/bet2: No such file or directory\n",
      "200809-08:40:09,446 nipype.interface INFO:\n",
      "\t stderr 2020-08-09T08:40:09.446576:/usr/local/fsl/bin/bet: line 151: /bin/remove_ext: No such file or directory\n",
      "200809-08:40:09,448 nipype.interface INFO:\n",
      "\t stderr 2020-08-09T08:40:09.448640:/usr/local/fsl/bin/bet: line 152: /bin/remove_ext: No such file or directory\n",
      "200809-08:40:09,449 nipype.interface INFO:\n",
      "\t stderr 2020-08-09T08:40:09.448640:/usr/local/fsl/bin/bet: line 154: /bin/imtest: No such file or directory\n",
      "200809-08:40:09,449 nipype.interface INFO:\n",
      "\t stderr 2020-08-09T08:40:09.448640:/usr/local/fsl/bin/bet: line 154: [: =: unary operator expected\n",
      "200809-08:40:09,451 nipype.interface INFO:\n",
      "\t stderr 2020-08-09T08:40:09.451040:/usr/local/fsl/bin/bet: line 236: /bin/bet2: No such file or directory\n"
     ]
    },
    {
     "name": "stdout",
     "output_type": "stream",
     "text": [
      "200809-08:40:12,8 nipype.interface INFO:\n",
      "\t stderr 2020-08-09T08:40:12.008595:/usr/local/fsl/bin/bet: line 151: /bin/remove_ext: No such file or directory\n",
      "200809-08:40:12,10 nipype.interface INFO:\n",
      "\t stderr 2020-08-09T08:40:12.010350:/usr/local/fsl/bin/bet: line 152: /bin/remove_ext: No such file or directory\n",
      "200809-08:40:12,11 nipype.interface INFO:\n",
      "\t stderr 2020-08-09T08:40:12.010350:/usr/local/fsl/bin/bet: line 154: /bin/imtest: No such file or directory\n",
      "200809-08:40:12,11 nipype.interface INFO:\n",
      "\t stderr 2020-08-09T08:40:12.010350:/usr/local/fsl/bin/bet: line 154: [: =: unary operator expected\n",
      "200809-08:40:12,12 nipype.interface INFO:\n",
      "\t stderr 2020-08-09T08:40:12.012743:/usr/local/fsl/bin/bet: line 236: /bin/bet2: No such file or directory\n",
      "200809-08:40:14,600 nipype.interface INFO:\n",
      "\t stderr 2020-08-09T08:40:14.600164:/usr/local/fsl/bin/bet: line 151: /bin/remove_ext: No such file or directory\n",
      "200809-08:40:14,601 nipype.interface INFO:\n",
      "\t stderr 2020-08-09T08:40:14.601853:/usr/local/fsl/bin/bet: line 152: /bin/remove_ext: No such file or directory\n",
      "200809-08:40:14,602 nipype.interface INFO:\n",
      "\t stderr 2020-08-09T08:40:14.601853:/usr/local/fsl/bin/bet: line 154: /bin/imtest: No such file or directory\n",
      "200809-08:40:14,603 nipype.interface INFO:\n",
      "\t stderr 2020-08-09T08:40:14.601853:/usr/local/fsl/bin/bet: line 154: [: =: unary operator expected\n",
      "200809-08:40:14,603 nipype.interface INFO:\n",
      "\t stderr 2020-08-09T08:40:14.603924:/usr/local/fsl/bin/bet: line 236: /bin/bet2: No such file or directory\n",
      "200809-08:40:17,200 nipype.interface INFO:\n",
      "\t stderr 2020-08-09T08:40:17.200700:/usr/local/fsl/bin/bet: line 151: /bin/remove_ext: No such file or directory\n",
      "200809-08:40:17,202 nipype.interface INFO:\n",
      "\t stderr 2020-08-09T08:40:17.202507:/usr/local/fsl/bin/bet: line 152: /bin/remove_ext: No such file or directory\n",
      "200809-08:40:17,203 nipype.interface INFO:\n",
      "\t stderr 2020-08-09T08:40:17.202507:/usr/local/fsl/bin/bet: line 154: /bin/imtest: No such file or directory\n",
      "200809-08:40:17,203 nipype.interface INFO:\n",
      "\t stderr 2020-08-09T08:40:17.202507:/usr/local/fsl/bin/bet: line 154: [: =: unary operator expected\n",
      "200809-08:40:17,204 nipype.interface INFO:\n",
      "\t stderr 2020-08-09T08:40:17.204869:/usr/local/fsl/bin/bet: line 236: /bin/bet2: No such file or directory\n",
      "200809-08:40:19,713 nipype.interface INFO:\n",
      "\t stderr 2020-08-09T08:40:19.712935:/usr/local/fsl/bin/bet: line 151: /bin/remove_ext: No such file or directory\n",
      "200809-08:40:19,714 nipype.interface INFO:\n",
      "\t stderr 2020-08-09T08:40:19.714770:/usr/local/fsl/bin/bet: line 152: /bin/remove_ext: No such file or directory\n",
      "200809-08:40:19,715 nipype.interface INFO:\n",
      "\t stderr 2020-08-09T08:40:19.714770:/usr/local/fsl/bin/bet: line 154: /bin/imtest: No such file or directory\n",
      "200809-08:40:19,715 nipype.interface INFO:\n",
      "\t stderr 2020-08-09T08:40:19.714770:/usr/local/fsl/bin/bet: line 154: [: =: unary operator expected\n",
      "200809-08:40:19,716 nipype.interface INFO:\n",
      "\t stderr 2020-08-09T08:40:19.716571:/usr/local/fsl/bin/bet: line 236: /bin/bet2: No such file or directory\n",
      "200809-08:40:22,393 nipype.interface INFO:\n",
      "\t stderr 2020-08-09T08:40:22.393198:/usr/local/fsl/bin/bet: line 151: /bin/remove_ext: No such file or directory\n",
      "200809-08:40:22,395 nipype.interface INFO:\n",
      "\t stderr 2020-08-09T08:40:22.395129:/usr/local/fsl/bin/bet: line 152: /bin/remove_ext: No such file or directory\n",
      "200809-08:40:22,395 nipype.interface INFO:\n",
      "\t stderr 2020-08-09T08:40:22.395129:/usr/local/fsl/bin/bet: line 154: /bin/imtest: No such file or directory\n",
      "200809-08:40:22,396 nipype.interface INFO:\n",
      "\t stderr 2020-08-09T08:40:22.395129:/usr/local/fsl/bin/bet: line 154: [: =: unary operator expected\n",
      "200809-08:40:22,397 nipype.interface INFO:\n",
      "\t stderr 2020-08-09T08:40:22.397223:/usr/local/fsl/bin/bet: line 236: /bin/bet2: No such file or directory\n",
      "200809-08:40:24,887 nipype.interface INFO:\n",
      "\t stderr 2020-08-09T08:40:24.887116:/usr/local/fsl/bin/bet: line 151: /bin/remove_ext: No such file or directory\n",
      "200809-08:40:24,888 nipype.interface INFO:\n",
      "\t stderr 2020-08-09T08:40:24.888961:/usr/local/fsl/bin/bet: line 152: /bin/remove_ext: No such file or directory\n",
      "200809-08:40:24,889 nipype.interface INFO:\n",
      "\t stderr 2020-08-09T08:40:24.888961:/usr/local/fsl/bin/bet: line 154: /bin/imtest: No such file or directory\n",
      "200809-08:40:24,890 nipype.interface INFO:\n",
      "\t stderr 2020-08-09T08:40:24.888961:/usr/local/fsl/bin/bet: line 154: [: =: unary operator expected\n",
      "200809-08:40:24,891 nipype.interface INFO:\n",
      "\t stderr 2020-08-09T08:40:24.891110:/usr/local/fsl/bin/bet: line 236: /bin/bet2: No such file or directory\n",
      "200809-08:40:27,394 nipype.interface INFO:\n",
      "\t stderr 2020-08-09T08:40:27.394253:/usr/local/fsl/bin/bet: line 151: /bin/remove_ext: No such file or directory\n",
      "200809-08:40:27,396 nipype.interface INFO:\n",
      "\t stderr 2020-08-09T08:40:27.396208:/usr/local/fsl/bin/bet: line 152: /bin/remove_ext: No such file or directory\n",
      "200809-08:40:27,396 nipype.interface INFO:\n",
      "\t stderr 2020-08-09T08:40:27.396208:/usr/local/fsl/bin/bet: line 154: /bin/imtest: No such file or directory\n",
      "200809-08:40:27,397 nipype.interface INFO:\n",
      "\t stderr 2020-08-09T08:40:27.396208:/usr/local/fsl/bin/bet: line 154: [: =: unary operator expected\n",
      "200809-08:40:27,398 nipype.interface INFO:\n",
      "\t stderr 2020-08-09T08:40:27.398242:/usr/local/fsl/bin/bet: line 236: /bin/bet2: No such file or directory\n",
      "200809-08:40:29,959 nipype.interface INFO:\n",
      "\t stderr 2020-08-09T08:40:29.958854:/usr/local/fsl/bin/bet: line 151: /bin/remove_ext: No such file or directory\n",
      "200809-08:40:29,960 nipype.interface INFO:\n",
      "\t stderr 2020-08-09T08:40:29.960607:/usr/local/fsl/bin/bet: line 152: /bin/remove_ext: No such file or directory\n",
      "200809-08:40:29,961 nipype.interface INFO:\n",
      "\t stderr 2020-08-09T08:40:29.960607:/usr/local/fsl/bin/bet: line 154: /bin/imtest: No such file or directory\n",
      "200809-08:40:29,962 nipype.interface INFO:\n",
      "\t stderr 2020-08-09T08:40:29.960607:/usr/local/fsl/bin/bet: line 154: [: =: unary operator expected\n",
      "200809-08:40:29,962 nipype.interface INFO:\n",
      "\t stderr 2020-08-09T08:40:29.962941:/usr/local/fsl/bin/bet: line 236: /bin/bet2: No such file or directory\n",
      "200809-08:40:32,463 nipype.interface INFO:\n",
      "\t stderr 2020-08-09T08:40:32.462779:/usr/local/fsl/bin/bet: line 151: /bin/remove_ext: No such file or directory\n",
      "200809-08:40:32,464 nipype.interface INFO:\n",
      "\t stderr 2020-08-09T08:40:32.464712:/usr/local/fsl/bin/bet: line 152: /bin/remove_ext: No such file or directory\n",
      "200809-08:40:32,465 nipype.interface INFO:\n",
      "\t stderr 2020-08-09T08:40:32.464712:/usr/local/fsl/bin/bet: line 154: /bin/imtest: No such file or directory\n",
      "200809-08:40:32,466 nipype.interface INFO:\n",
      "\t stderr 2020-08-09T08:40:32.464712:/usr/local/fsl/bin/bet: line 154: [: =: unary operator expected\n",
      "200809-08:40:32,466 nipype.interface INFO:\n",
      "\t stderr 2020-08-09T08:40:32.466870:/usr/local/fsl/bin/bet: line 236: /bin/bet2: No such file or directory\n",
      "200809-08:40:34,958 nipype.interface INFO:\n",
      "\t stderr 2020-08-09T08:40:34.958401:/usr/local/fsl/bin/bet: line 151: /bin/remove_ext: No such file or directory\n",
      "200809-08:40:34,960 nipype.interface INFO:\n",
      "\t stderr 2020-08-09T08:40:34.960317:/usr/local/fsl/bin/bet: line 152: /bin/remove_ext: No such file or directory\n",
      "200809-08:40:34,961 nipype.interface INFO:\n",
      "\t stderr 2020-08-09T08:40:34.960317:/usr/local/fsl/bin/bet: line 154: /bin/imtest: No such file or directory\n",
      "200809-08:40:34,961 nipype.interface INFO:\n",
      "\t stderr 2020-08-09T08:40:34.960317:/usr/local/fsl/bin/bet: line 154: [: =: unary operator expected\n",
      "200809-08:40:34,962 nipype.interface INFO:\n",
      "\t stderr 2020-08-09T08:40:34.962237:/usr/local/fsl/bin/bet: line 236: /bin/bet2: No such file or directory\n",
      "200809-08:40:37,451 nipype.interface INFO:\n",
      "\t stderr 2020-08-09T08:40:37.451076:/usr/local/fsl/bin/bet: line 151: /bin/remove_ext: No such file or directory\n",
      "200809-08:40:37,453 nipype.interface INFO:\n",
      "\t stderr 2020-08-09T08:40:37.453172:/usr/local/fsl/bin/bet: line 152: /bin/remove_ext: No such file or directory\n",
      "200809-08:40:37,453 nipype.interface INFO:\n",
      "\t stderr 2020-08-09T08:40:37.453172:/usr/local/fsl/bin/bet: line 154: /bin/imtest: No such file or directory\n",
      "200809-08:40:37,454 nipype.interface INFO:\n",
      "\t stderr 2020-08-09T08:40:37.453172:/usr/local/fsl/bin/bet: line 154: [: =: unary operator expected\n",
      "200809-08:40:37,455 nipype.interface INFO:\n",
      "\t stderr 2020-08-09T08:40:37.454979:/usr/local/fsl/bin/bet: line 236: /bin/bet2: No such file or directory\n"
     ]
    },
    {
     "name": "stdout",
     "output_type": "stream",
     "text": [
      "200809-08:40:39,947 nipype.interface INFO:\n",
      "\t stderr 2020-08-09T08:40:39.947067:/usr/local/fsl/bin/bet: line 151: /bin/remove_ext: No such file or directory\n",
      "200809-08:40:39,949 nipype.interface INFO:\n",
      "\t stderr 2020-08-09T08:40:39.948973:/usr/local/fsl/bin/bet: line 152: /bin/remove_ext: No such file or directory\n",
      "200809-08:40:39,949 nipype.interface INFO:\n",
      "\t stderr 2020-08-09T08:40:39.948973:/usr/local/fsl/bin/bet: line 154: /bin/imtest: No such file or directory\n",
      "200809-08:40:39,950 nipype.interface INFO:\n",
      "\t stderr 2020-08-09T08:40:39.948973:/usr/local/fsl/bin/bet: line 154: [: =: unary operator expected\n",
      "200809-08:40:39,950 nipype.interface INFO:\n",
      "\t stderr 2020-08-09T08:40:39.950966:/usr/local/fsl/bin/bet: line 236: /bin/bet2: No such file or directory\n",
      "200809-08:40:42,397 nipype.interface INFO:\n",
      "\t stderr 2020-08-09T08:40:42.397461:/usr/local/fsl/bin/bet: line 151: /bin/remove_ext: No such file or directory\n",
      "200809-08:40:42,399 nipype.interface INFO:\n",
      "\t stderr 2020-08-09T08:40:42.399348:/usr/local/fsl/bin/bet: line 152: /bin/remove_ext: No such file or directory\n",
      "200809-08:40:42,400 nipype.interface INFO:\n",
      "\t stderr 2020-08-09T08:40:42.399348:/usr/local/fsl/bin/bet: line 154: /bin/imtest: No such file or directory\n",
      "200809-08:40:42,400 nipype.interface INFO:\n",
      "\t stderr 2020-08-09T08:40:42.399348:/usr/local/fsl/bin/bet: line 154: [: =: unary operator expected\n",
      "200809-08:40:42,401 nipype.interface INFO:\n",
      "\t stderr 2020-08-09T08:40:42.401296:/usr/local/fsl/bin/bet: line 236: /bin/bet2: No such file or directory\n",
      "200809-08:40:44,902 nipype.interface INFO:\n",
      "\t stderr 2020-08-09T08:40:44.902380:/usr/local/fsl/bin/bet: line 151: /bin/remove_ext: No such file or directory\n",
      "200809-08:40:44,904 nipype.interface INFO:\n",
      "\t stderr 2020-08-09T08:40:44.904344:/usr/local/fsl/bin/bet: line 152: /bin/remove_ext: No such file or directory\n",
      "200809-08:40:44,905 nipype.interface INFO:\n",
      "\t stderr 2020-08-09T08:40:44.904344:/usr/local/fsl/bin/bet: line 154: /bin/imtest: No such file or directory\n",
      "200809-08:40:44,905 nipype.interface INFO:\n",
      "\t stderr 2020-08-09T08:40:44.904344:/usr/local/fsl/bin/bet: line 154: [: =: unary operator expected\n",
      "200809-08:40:44,906 nipype.interface INFO:\n",
      "\t stderr 2020-08-09T08:40:44.906532:/usr/local/fsl/bin/bet: line 236: /bin/bet2: No such file or directory\n",
      "200809-08:40:47,409 nipype.interface INFO:\n",
      "\t stderr 2020-08-09T08:40:47.409297:/usr/local/fsl/bin/bet: line 151: /bin/remove_ext: No such file or directory\n",
      "200809-08:40:47,411 nipype.interface INFO:\n",
      "\t stderr 2020-08-09T08:40:47.411226:/usr/local/fsl/bin/bet: line 152: /bin/remove_ext: No such file or directory\n",
      "200809-08:40:47,412 nipype.interface INFO:\n",
      "\t stderr 2020-08-09T08:40:47.411226:/usr/local/fsl/bin/bet: line 154: /bin/imtest: No such file or directory\n",
      "200809-08:40:47,412 nipype.interface INFO:\n",
      "\t stderr 2020-08-09T08:40:47.411226:/usr/local/fsl/bin/bet: line 154: [: =: unary operator expected\n",
      "200809-08:40:47,413 nipype.interface INFO:\n",
      "\t stderr 2020-08-09T08:40:47.413417:/usr/local/fsl/bin/bet: line 236: /bin/bet2: No such file or directory\n",
      "200809-08:40:49,913 nipype.interface INFO:\n",
      "\t stderr 2020-08-09T08:40:49.913640:/usr/local/fsl/bin/bet: line 151: /bin/remove_ext: No such file or directory\n",
      "200809-08:40:49,915 nipype.interface INFO:\n",
      "\t stderr 2020-08-09T08:40:49.915555:/usr/local/fsl/bin/bet: line 152: /bin/remove_ext: No such file or directory\n",
      "200809-08:40:49,916 nipype.interface INFO:\n",
      "\t stderr 2020-08-09T08:40:49.915555:/usr/local/fsl/bin/bet: line 154: /bin/imtest: No such file or directory\n",
      "200809-08:40:49,916 nipype.interface INFO:\n",
      "\t stderr 2020-08-09T08:40:49.915555:/usr/local/fsl/bin/bet: line 154: [: =: unary operator expected\n",
      "200809-08:40:49,917 nipype.interface INFO:\n",
      "\t stderr 2020-08-09T08:40:49.917287:/usr/local/fsl/bin/bet: line 236: /bin/bet2: No such file or directory\n",
      "200809-08:40:52,416 nipype.interface INFO:\n",
      "\t stderr 2020-08-09T08:40:52.416438:/usr/local/fsl/bin/bet: line 151: /bin/remove_ext: No such file or directory\n",
      "200809-08:40:52,418 nipype.interface INFO:\n",
      "\t stderr 2020-08-09T08:40:52.418263:/usr/local/fsl/bin/bet: line 152: /bin/remove_ext: No such file or directory\n",
      "200809-08:40:52,418 nipype.interface INFO:\n",
      "\t stderr 2020-08-09T08:40:52.418263:/usr/local/fsl/bin/bet: line 154: /bin/imtest: No such file or directory\n",
      "200809-08:40:52,419 nipype.interface INFO:\n",
      "\t stderr 2020-08-09T08:40:52.418263:/usr/local/fsl/bin/bet: line 154: [: =: unary operator expected\n",
      "200809-08:40:52,419 nipype.interface INFO:\n",
      "\t stderr 2020-08-09T08:40:52.419916:/usr/local/fsl/bin/bet: line 236: /bin/bet2: No such file or directory\n",
      "200809-08:40:54,992 nipype.interface INFO:\n",
      "\t stderr 2020-08-09T08:40:54.992129:/usr/local/fsl/bin/bet: line 151: /bin/remove_ext: No such file or directory\n",
      "200809-08:40:54,994 nipype.interface INFO:\n",
      "\t stderr 2020-08-09T08:40:54.993982:/usr/local/fsl/bin/bet: line 152: /bin/remove_ext: No such file or directory\n",
      "200809-08:40:54,994 nipype.interface INFO:\n",
      "\t stderr 2020-08-09T08:40:54.993982:/usr/local/fsl/bin/bet: line 154: /bin/imtest: No such file or directory\n",
      "200809-08:40:54,995 nipype.interface INFO:\n",
      "\t stderr 2020-08-09T08:40:54.993982:/usr/local/fsl/bin/bet: line 154: [: =: unary operator expected\n",
      "200809-08:40:54,995 nipype.interface INFO:\n",
      "\t stderr 2020-08-09T08:40:54.995711:/usr/local/fsl/bin/bet: line 236: /bin/bet2: No such file or directory\n",
      "200809-08:40:57,477 nipype.interface INFO:\n",
      "\t stderr 2020-08-09T08:40:57.477538:/usr/local/fsl/bin/bet: line 151: /bin/remove_ext: No such file or directory\n",
      "200809-08:40:57,479 nipype.interface INFO:\n",
      "\t stderr 2020-08-09T08:40:57.479492:/usr/local/fsl/bin/bet: line 152: /bin/remove_ext: No such file or directory\n",
      "200809-08:40:57,480 nipype.interface INFO:\n",
      "\t stderr 2020-08-09T08:40:57.479492:/usr/local/fsl/bin/bet: line 154: /bin/imtest: No such file or directory\n",
      "200809-08:40:57,480 nipype.interface INFO:\n",
      "\t stderr 2020-08-09T08:40:57.479492:/usr/local/fsl/bin/bet: line 154: [: =: unary operator expected\n",
      "200809-08:40:57,481 nipype.interface INFO:\n",
      "\t stderr 2020-08-09T08:40:57.481504:/usr/local/fsl/bin/bet: line 236: /bin/bet2: No such file or directory\n",
      "200809-08:40:59,960 nipype.interface INFO:\n",
      "\t stderr 2020-08-09T08:40:59.960690:/usr/local/fsl/bin/bet: line 151: /bin/remove_ext: No such file or directory\n",
      "200809-08:40:59,962 nipype.interface INFO:\n",
      "\t stderr 2020-08-09T08:40:59.962522:/usr/local/fsl/bin/bet: line 152: /bin/remove_ext: No such file or directory\n",
      "200809-08:40:59,963 nipype.interface INFO:\n",
      "\t stderr 2020-08-09T08:40:59.962522:/usr/local/fsl/bin/bet: line 154: /bin/imtest: No such file or directory\n",
      "200809-08:40:59,963 nipype.interface INFO:\n",
      "\t stderr 2020-08-09T08:40:59.962522:/usr/local/fsl/bin/bet: line 154: [: =: unary operator expected\n",
      "200809-08:40:59,964 nipype.interface INFO:\n",
      "\t stderr 2020-08-09T08:40:59.964272:/usr/local/fsl/bin/bet: line 236: /bin/bet2: No such file or directory\n",
      "200809-08:41:02,417 nipype.interface INFO:\n",
      "\t stderr 2020-08-09T08:41:02.417593:/usr/local/fsl/bin/bet: line 151: /bin/remove_ext: No such file or directory\n",
      "200809-08:41:02,419 nipype.interface INFO:\n",
      "\t stderr 2020-08-09T08:41:02.419480:/usr/local/fsl/bin/bet: line 152: /bin/remove_ext: No such file or directory\n",
      "200809-08:41:02,420 nipype.interface INFO:\n",
      "\t stderr 2020-08-09T08:41:02.419480:/usr/local/fsl/bin/bet: line 154: /bin/imtest: No such file or directory\n",
      "200809-08:41:02,420 nipype.interface INFO:\n",
      "\t stderr 2020-08-09T08:41:02.419480:/usr/local/fsl/bin/bet: line 154: [: =: unary operator expected\n",
      "200809-08:41:02,421 nipype.interface INFO:\n",
      "\t stderr 2020-08-09T08:41:02.421593:/usr/local/fsl/bin/bet: line 236: /bin/bet2: No such file or directory\n",
      "200809-08:41:04,956 nipype.interface INFO:\n",
      "\t stderr 2020-08-09T08:41:04.955942:/usr/local/fsl/bin/bet: line 151: /bin/remove_ext: No such file or directory\n",
      "200809-08:41:04,957 nipype.interface INFO:\n",
      "\t stderr 2020-08-09T08:41:04.957752:/usr/local/fsl/bin/bet: line 152: /bin/remove_ext: No such file or directory\n",
      "200809-08:41:04,958 nipype.interface INFO:\n",
      "\t stderr 2020-08-09T08:41:04.957752:/usr/local/fsl/bin/bet: line 154: /bin/imtest: No such file or directory\n",
      "200809-08:41:04,959 nipype.interface INFO:\n",
      "\t stderr 2020-08-09T08:41:04.957752:/usr/local/fsl/bin/bet: line 154: [: =: unary operator expected\n",
      "200809-08:41:04,959 nipype.interface INFO:\n",
      "\t stderr 2020-08-09T08:41:04.959698:/usr/local/fsl/bin/bet: line 236: /bin/bet2: No such file or directory\n"
     ]
    },
    {
     "name": "stdout",
     "output_type": "stream",
     "text": [
      "200809-08:41:07,461 nipype.interface INFO:\n",
      "\t stderr 2020-08-09T08:41:07.461429:/usr/local/fsl/bin/bet: line 151: /bin/remove_ext: No such file or directory\n",
      "200809-08:41:07,463 nipype.interface INFO:\n",
      "\t stderr 2020-08-09T08:41:07.463483:/usr/local/fsl/bin/bet: line 152: /bin/remove_ext: No such file or directory\n",
      "200809-08:41:07,464 nipype.interface INFO:\n",
      "\t stderr 2020-08-09T08:41:07.463483:/usr/local/fsl/bin/bet: line 154: /bin/imtest: No such file or directory\n",
      "200809-08:41:07,464 nipype.interface INFO:\n",
      "\t stderr 2020-08-09T08:41:07.463483:/usr/local/fsl/bin/bet: line 154: [: =: unary operator expected\n",
      "200809-08:41:07,465 nipype.interface INFO:\n",
      "\t stderr 2020-08-09T08:41:07.465486:/usr/local/fsl/bin/bet: line 236: /bin/bet2: No such file or directory\n",
      "200809-08:41:10,17 nipype.interface INFO:\n",
      "\t stderr 2020-08-09T08:41:10.016785:/usr/local/fsl/bin/bet: line 151: /bin/remove_ext: No such file or directory\n",
      "200809-08:41:10,18 nipype.interface INFO:\n",
      "\t stderr 2020-08-09T08:41:10.018883:/usr/local/fsl/bin/bet: line 152: /bin/remove_ext: No such file or directory\n",
      "200809-08:41:10,19 nipype.interface INFO:\n",
      "\t stderr 2020-08-09T08:41:10.018883:/usr/local/fsl/bin/bet: line 154: /bin/imtest: No such file or directory\n",
      "200809-08:41:10,20 nipype.interface INFO:\n",
      "\t stderr 2020-08-09T08:41:10.018883:/usr/local/fsl/bin/bet: line 154: [: =: unary operator expected\n",
      "200809-08:41:10,21 nipype.interface INFO:\n",
      "\t stderr 2020-08-09T08:41:10.021575:/usr/local/fsl/bin/bet: line 236: /bin/bet2: No such file or directory\n",
      "200809-08:41:12,589 nipype.interface INFO:\n",
      "\t stderr 2020-08-09T08:41:12.589452:/usr/local/fsl/bin/bet: line 151: /bin/remove_ext: No such file or directory\n",
      "200809-08:41:12,591 nipype.interface INFO:\n",
      "\t stderr 2020-08-09T08:41:12.591628:/usr/local/fsl/bin/bet: line 152: /bin/remove_ext: No such file or directory\n",
      "200809-08:41:12,592 nipype.interface INFO:\n",
      "\t stderr 2020-08-09T08:41:12.591628:/usr/local/fsl/bin/bet: line 154: /bin/imtest: No such file or directory\n",
      "200809-08:41:12,593 nipype.interface INFO:\n",
      "\t stderr 2020-08-09T08:41:12.591628:/usr/local/fsl/bin/bet: line 154: [: =: unary operator expected\n",
      "200809-08:41:12,594 nipype.interface INFO:\n",
      "\t stderr 2020-08-09T08:41:12.594903:/usr/local/fsl/bin/bet: line 236: /bin/bet2: No such file or directory\n",
      "200809-08:41:15,152 nipype.interface INFO:\n",
      "\t stderr 2020-08-09T08:41:15.152611:/usr/local/fsl/bin/bet: line 151: /bin/remove_ext: No such file or directory\n",
      "200809-08:41:15,154 nipype.interface INFO:\n",
      "\t stderr 2020-08-09T08:41:15.154489:/usr/local/fsl/bin/bet: line 152: /bin/remove_ext: No such file or directory\n",
      "200809-08:41:15,155 nipype.interface INFO:\n",
      "\t stderr 2020-08-09T08:41:15.154489:/usr/local/fsl/bin/bet: line 154: /bin/imtest: No such file or directory\n",
      "200809-08:41:15,155 nipype.interface INFO:\n",
      "\t stderr 2020-08-09T08:41:15.154489:/usr/local/fsl/bin/bet: line 154: [: =: unary operator expected\n",
      "200809-08:41:15,156 nipype.interface INFO:\n",
      "\t stderr 2020-08-09T08:41:15.156640:/usr/local/fsl/bin/bet: line 236: /bin/bet2: No such file or directory\n",
      "200809-08:41:17,708 nipype.interface INFO:\n",
      "\t stderr 2020-08-09T08:41:17.707830:/usr/local/fsl/bin/bet: line 151: /bin/remove_ext: No such file or directory\n",
      "200809-08:41:17,709 nipype.interface INFO:\n",
      "\t stderr 2020-08-09T08:41:17.709801:/usr/local/fsl/bin/bet: line 152: /bin/remove_ext: No such file or directory\n",
      "200809-08:41:17,710 nipype.interface INFO:\n",
      "\t stderr 2020-08-09T08:41:17.709801:/usr/local/fsl/bin/bet: line 154: /bin/imtest: No such file or directory\n",
      "200809-08:41:17,711 nipype.interface INFO:\n",
      "\t stderr 2020-08-09T08:41:17.709801:/usr/local/fsl/bin/bet: line 154: [: =: unary operator expected\n",
      "200809-08:41:17,711 nipype.interface INFO:\n",
      "\t stderr 2020-08-09T08:41:17.711732:/usr/local/fsl/bin/bet: line 236: /bin/bet2: No such file or directory\n",
      "200809-08:41:20,271 nipype.interface INFO:\n",
      "\t stderr 2020-08-09T08:41:20.271385:/usr/local/fsl/bin/bet: line 151: /bin/remove_ext: No such file or directory\n",
      "200809-08:41:20,273 nipype.interface INFO:\n",
      "\t stderr 2020-08-09T08:41:20.273325:/usr/local/fsl/bin/bet: line 152: /bin/remove_ext: No such file or directory\n",
      "200809-08:41:20,274 nipype.interface INFO:\n",
      "\t stderr 2020-08-09T08:41:20.273325:/usr/local/fsl/bin/bet: line 154: /bin/imtest: No such file or directory\n",
      "200809-08:41:20,274 nipype.interface INFO:\n",
      "\t stderr 2020-08-09T08:41:20.273325:/usr/local/fsl/bin/bet: line 154: [: =: unary operator expected\n",
      "200809-08:41:20,275 nipype.interface INFO:\n",
      "\t stderr 2020-08-09T08:41:20.275198:/usr/local/fsl/bin/bet: line 236: /bin/bet2: No such file or directory\n",
      "200809-08:41:23,206 nipype.interface INFO:\n",
      "\t stderr 2020-08-09T08:41:23.206265:/usr/local/fsl/bin/bet: line 151: /bin/remove_ext: No such file or directory\n",
      "200809-08:41:23,208 nipype.interface INFO:\n",
      "\t stderr 2020-08-09T08:41:23.207983:/usr/local/fsl/bin/bet: line 152: /bin/remove_ext: No such file or directory\n",
      "200809-08:41:23,208 nipype.interface INFO:\n",
      "\t stderr 2020-08-09T08:41:23.207983:/usr/local/fsl/bin/bet: line 154: /bin/imtest: No such file or directory\n",
      "200809-08:41:23,209 nipype.interface INFO:\n",
      "\t stderr 2020-08-09T08:41:23.207983:/usr/local/fsl/bin/bet: line 154: [: =: unary operator expected\n",
      "200809-08:41:23,209 nipype.interface INFO:\n",
      "\t stderr 2020-08-09T08:41:23.209594:/usr/local/fsl/bin/bet: line 236: /bin/bet2: No such file or directory\n",
      "200809-08:41:25,836 nipype.interface INFO:\n",
      "\t stderr 2020-08-09T08:41:25.836182:/usr/local/fsl/bin/bet: line 151: /bin/remove_ext: No such file or directory\n",
      "200809-08:41:25,838 nipype.interface INFO:\n",
      "\t stderr 2020-08-09T08:41:25.838251:/usr/local/fsl/bin/bet: line 152: /bin/remove_ext: No such file or directory\n",
      "200809-08:41:25,838 nipype.interface INFO:\n",
      "\t stderr 2020-08-09T08:41:25.838251:/usr/local/fsl/bin/bet: line 154: /bin/imtest: No such file or directory\n",
      "200809-08:41:25,839 nipype.interface INFO:\n",
      "\t stderr 2020-08-09T08:41:25.838251:/usr/local/fsl/bin/bet: line 154: [: =: unary operator expected\n",
      "200809-08:41:25,840 nipype.interface INFO:\n",
      "\t stderr 2020-08-09T08:41:25.840099:/usr/local/fsl/bin/bet: line 236: /bin/bet2: No such file or directory\n",
      "200809-08:41:28,395 nipype.interface INFO:\n",
      "\t stderr 2020-08-09T08:41:28.394821:/usr/local/fsl/bin/bet: line 151: /bin/remove_ext: No such file or directory\n",
      "200809-08:41:28,396 nipype.interface INFO:\n",
      "\t stderr 2020-08-09T08:41:28.396565:/usr/local/fsl/bin/bet: line 152: /bin/remove_ext: No such file or directory\n",
      "200809-08:41:28,397 nipype.interface INFO:\n",
      "\t stderr 2020-08-09T08:41:28.396565:/usr/local/fsl/bin/bet: line 154: /bin/imtest: No such file or directory\n",
      "200809-08:41:28,397 nipype.interface INFO:\n",
      "\t stderr 2020-08-09T08:41:28.396565:/usr/local/fsl/bin/bet: line 154: [: =: unary operator expected\n",
      "200809-08:41:28,398 nipype.interface INFO:\n",
      "\t stderr 2020-08-09T08:41:28.398539:/usr/local/fsl/bin/bet: line 236: /bin/bet2: No such file or directory\n",
      "200809-08:41:30,943 nipype.interface INFO:\n",
      "\t stderr 2020-08-09T08:41:30.943690:/usr/local/fsl/bin/bet: line 151: /bin/remove_ext: No such file or directory\n",
      "200809-08:41:30,945 nipype.interface INFO:\n",
      "\t stderr 2020-08-09T08:41:30.945725:/usr/local/fsl/bin/bet: line 152: /bin/remove_ext: No such file or directory\n",
      "200809-08:41:30,946 nipype.interface INFO:\n",
      "\t stderr 2020-08-09T08:41:30.945725:/usr/local/fsl/bin/bet: line 154: /bin/imtest: No such file or directory\n",
      "200809-08:41:30,947 nipype.interface INFO:\n",
      "\t stderr 2020-08-09T08:41:30.945725:/usr/local/fsl/bin/bet: line 154: [: =: unary operator expected\n",
      "200809-08:41:30,947 nipype.interface INFO:\n",
      "\t stderr 2020-08-09T08:41:30.947888:/usr/local/fsl/bin/bet: line 236: /bin/bet2: No such file or directory\n",
      "200809-08:41:33,749 nipype.interface INFO:\n",
      "\t stderr 2020-08-09T08:41:33.749451:/usr/local/fsl/bin/bet: line 151: /bin/remove_ext: No such file or directory\n",
      "200809-08:41:33,751 nipype.interface INFO:\n",
      "\t stderr 2020-08-09T08:41:33.751186:/usr/local/fsl/bin/bet: line 152: /bin/remove_ext: No such file or directory\n",
      "200809-08:41:33,751 nipype.interface INFO:\n",
      "\t stderr 2020-08-09T08:41:33.751186:/usr/local/fsl/bin/bet: line 154: /bin/imtest: No such file or directory\n",
      "200809-08:41:33,752 nipype.interface INFO:\n",
      "\t stderr 2020-08-09T08:41:33.751186:/usr/local/fsl/bin/bet: line 154: [: =: unary operator expected\n",
      "200809-08:41:33,753 nipype.interface INFO:\n",
      "\t stderr 2020-08-09T08:41:33.753630:/usr/local/fsl/bin/bet: line 236: /bin/bet2: No such file or directory\n"
     ]
    }
   ],
   "source": [
    "from gsprep.tools.segmentation.ct_brain_extraction import ct_brain_extraction\n",
    "ncct_channel = 4\n",
    "brain_mask = np.array([ct_brain_extraction(raw_images[subj, ..., ncct_channel], fsl_path='/usr/local/fsl/bin')[0]\n",
    "                        for subj in range(n_subj)])\n",
    "not_brain_mask = 1 - brain_mask\n",
    "not_brain_mask.shape"
   ]
  },
  {
   "cell_type": "code",
   "execution_count": null,
   "metadata": {
    "pycharm": {
     "is_executing": true,
     "name": "#%%\n"
    }
   },
   "outputs": [],
   "source": [
    "# enlargen slighlty\n",
    "enlarged_not_brain_mask = np.array([ndimage.binary_dilation(not_brain_mask[subj], ball(3)) for subj in range(n_subj)])\n",
    "inv_skull_mask = 1 - enlarged_not_brain_mask"
   ]
  },
  {
   "cell_type": "markdown",
   "metadata": {
    "pycharm": {
     "is_executing": true,
     "name": "#%% md\n"
    }
   },
   "source": [
    "### Alternative skull mask\n",
    "\n",
    "If gsprep not available (pure python)."
   ]
  },
  {
   "cell_type": "code",
   "execution_count": null,
   "metadata": {
    "pycharm": {
     "is_executing": true,
     "name": "#%%\n"
    }
   },
   "outputs": [],
   "source": [
    "ncct_channel = 4\n",
    "threshold = np.percentile(raw_images[..., ncct_channel], 90)\n",
    "skull_mask = gaussian_smoothing(raw_images[..., ncct_channel, None], kernel_width=3) > threshold\n",
    "enlarged_skull_mask = np.array([ndimage.binary_dilation(skull_mask[idx, ..., 0], structure=ball(2)) for idx in range(skull_mask.shape[0])])\n",
    "alt_inv_skull_mask = -1 * enlarged_skull_mask + 1"
   ]
  },
  {
   "cell_type": "code",
   "execution_count": null,
   "metadata": {
    "pycharm": {
     "is_executing": true,
     "name": "#%%\n"
    }
   },
   "outputs": [],
   "source": [
    "display(raw_images[0, ..., 4], mask=enlarged_skull_mask[0])\n",
    "display(raw_images[0, ..., ncct_channel], mask=enlarged_not_brain_mask[0])\n"
   ]
  },
  {
   "cell_type": "markdown",
   "metadata": {},
   "source": [
    "## Create major vessel mask\n",
    "\n",
    "Major vessels create false positive signal on Tmax masks, but are easily recognisable on CBF\n",
    "\n",
    "Better way to do this: Segment on VPCT?"
   ]
  },
  {
   "cell_type": "code",
   "execution_count": null,
   "metadata": {
    "pycharm": {
     "is_executing": true,
     "name": "#%%\n"
    }
   },
   "outputs": [],
   "source": [
    "cbf_channel = 1\n",
    "threshold = np.percentile(raw_images[..., cbf_channel], 99)\n",
    "vessel_mask = raw_images[..., cbf_channel] > threshold\n",
    "enlarged_vessel_mask = np.array([ndimage.binary_dilation(vessel_mask[idx], structure=ball(2)) for idx in range(vessel_mask.shape[0])])\n",
    "vessel_mask = enlarged_vessel_mask\n",
    "inv_vessel_mask = -1 * vessel_mask + 1"
   ]
  },
  {
   "cell_type": "code",
   "execution_count": null,
   "metadata": {
    "pycharm": {
     "is_executing": true,
     "name": "#%%\n"
    }
   },
   "outputs": [],
   "source": [
    "subj_idx = 1\n",
    "display(raw_images[subj_idx,...,cbf_channel], mask=vessel_mask[subj_idx])\n",
    "display(vessel_mask[subj_idx])"
   ]
  },
  {
   "cell_type": "markdown",
   "metadata": {
    "pycharm": {
     "name": "#%% md\n"
    }
   },
   "source": [
    "## Create Penumbra mask"
   ]
  },
  {
   "cell_type": "code",
   "execution_count": null,
   "metadata": {
    "pycharm": {
     "is_executing": true,
     "name": "#%%\n"
    }
   },
   "outputs": [],
   "source": [
    "raw_penumbra_masks = raw_images[..., 0] > 6\n",
    "smooth_penumbra_masks = gaussian_smoothing(raw_images[..., 0, None], kernel_width=3) > 6\n",
    "corr_csf_penumbra_masks = smooth_penumbra_masks * inv_csf_mask[..., None] # correct for CSF\n",
    "corr_vx_penumbra_masks = corr_csf_penumbra_masks * inv_vessel_mask[..., None] # correct for CSF\n",
    "# Todo correct for vessels"
   ]
  },
  {
   "cell_type": "code",
   "execution_count": null,
   "metadata": {
    "pycharm": {
     "is_executing": true,
     "name": "#%%\n"
    }
   },
   "outputs": [],
   "source": [
    "subj_idx = 5\n",
    "display(raw_penumbra_masks[subj_idx])\n",
    "display(smooth_penumbra_masks[subj_idx])\n",
    "display(corr_csf_penumbra_masks[subj_idx, ..., 0])\n",
    "display(corr_vx_penumbra_masks[subj_idx, ..., 0])\n",
    "display(raw_images[subj_idx, ..., 0])\n"
   ]
  },
  {
   "cell_type": "markdown",
   "metadata": {
    "pycharm": {
     "is_executing": true,
     "name": "#%% md\n"
    }
   },
   "source": [
    "## Create Core mask\n",
    "\n"
   ]
  },
  {
   "cell_type": "code",
   "execution_count": null,
   "metadata": {
    "pycharm": {
     "is_executing": true,
     "name": "#%%\n"
    }
   },
   "outputs": [],
   "source": [
    "rCBF = normalise_by_contralateral_median(raw_images[..., 1])\n",
    "smooth_rCBF = normalise_by_contralateral_median(gaussian_smoothing(raw_images[..., 1, None], kernel_width=2))\n",
    "raw_core_masks = rCBF < 0.38\n",
    "smooth_core_masks = smooth_rCBF < 0.38\n",
    "corr_csf_core_masks = smooth_core_masks * inv_csf_mask[..., None]\n",
    "corr_vx_core_masks = corr_csf_core_masks * inv_vessel_mask[..., None]\n",
    "corr_skull_core_masks = corr_vx_core_masks * inv_skull_mask[..., None]"
   ]
  },
  {
   "cell_type": "code",
   "execution_count": null,
   "metadata": {
    "pycharm": {
     "is_executing": true,
     "name": "#%%\n"
    }
   },
   "outputs": [],
   "source": [
    "subj_idx = 5\n",
    "display(raw_images[subj_idx, ..., 1])\n",
    "display(raw_core_masks[subj_idx])\n",
    "display(smooth_core_masks[subj_idx])\n",
    "display(corr_csf_core_masks[subj_idx])\n",
    "display(corr_vx_core_masks[subj_idx])\n",
    "display(corr_skull_core_masks[subj_idx])\n",
    "display(raw_images[subj_idx, ...,0], mask=raw_labels[subj_idx])"
   ]
  },
  {
   "cell_type": "markdown",
   "metadata": {
    "pycharm": {
     "name": "#%% md\n"
    }
   },
   "source": [
    "Restrict to defined brain mask\n"
   ]
  },
  {
   "cell_type": "code",
   "execution_count": null,
   "metadata": {
    "pycharm": {
     "is_executing": true,
     "name": "#%%\n"
    }
   },
   "outputs": [],
   "source": [
    "restr_core = corr_skull_core_masks * raw_mask[..., None]\n",
    "restr_penumbra = corr_vx_penumbra_masks * raw_mask[..., None]"
   ]
  },
  {
   "cell_type": "code",
   "execution_count": null,
   "metadata": {
    "pycharm": {
     "is_executing": true,
     "name": "#%%\n"
    }
   },
   "outputs": [],
   "source": [
    "subj_idx = 60\n",
    "display(raw_images[subj_idx, ...,0], mask=restr_penumbra[subj_idx])\n",
    "display(raw_images[subj_idx, ...,0], mask=restr_core[subj_idx])\n",
    "display(raw_labels[subj_idx])\n"
   ]
  },
  {
   "cell_type": "markdown",
   "metadata": {
    "pycharm": {
     "name": "#%% md\n"
    }
   },
   "source": [
    "Stats\n"
   ]
  },
  {
   "cell_type": "code",
   "execution_count": null,
   "metadata": {
    "pycharm": {
     "is_executing": true,
     "name": "#%%\n"
    }
   },
   "outputs": [],
   "source": [
    "# GT in penumbra\n",
    "np.sum(restr_penumbra[..., 0] * raw_labels) / np.sum(raw_labels)\n"
   ]
  },
  {
   "cell_type": "code",
   "execution_count": null,
   "metadata": {
    "pycharm": {
     "is_executing": true,
     "name": "#%%\n"
    }
   },
   "outputs": [],
   "source": [
    "# Core in GT\n",
    "overall_core_in_gt = np.sum(restr_core[..., 0] * raw_labels) / np.sum(restr_core)\n",
    "overall_core_in_gt\n"
   ]
  },
  {
   "cell_type": "code",
   "execution_count": null,
   "metadata": {
    "pycharm": {
     "is_executing": true,
     "name": "#%%\n"
    }
   },
   "outputs": [],
   "source": [
    "import matplotlib.pyplot as plt\n",
    "core_in_gt = np.sum(restr_core[..., 0] * raw_labels, axis=(1,2,3)) / np.sum(restr_core[..., 0], axis=(1,2,3))\n",
    "plt.hist(core_in_gt, bins=50)\n",
    "np.median(core_in_gt), np.mean(core_in_gt), np.std(core_in_gt)"
   ]
  },
  {
   "cell_type": "code",
   "execution_count": null,
   "metadata": {
    "pycharm": {
     "is_executing": true,
     "name": "#%%\n"
    }
   },
   "outputs": [],
   "source": [
    "core_not_in_label = restr_core.copy()\n",
    "core_not_in_label[raw_labels == 1] = 0\n"
   ]
  },
  {
   "cell_type": "code",
   "execution_count": null,
   "metadata": {
    "pycharm": {
     "is_executing": true,
     "name": "#%%\n"
    }
   },
   "outputs": [],
   "source": [
    "subj_idx = 100\n",
    "display(raw_images[subj_idx, ...,0], mask=core_not_in_label[subj_idx])\n",
    "display(raw_images[subj_idx, ...,0], mask=raw_labels[subj_idx])\n",
    "core_in_gt[subj_idx]"
   ]
  },
  {
   "cell_type": "code",
   "execution_count": null,
   "metadata": {
    "pycharm": {
     "is_executing": true
    }
   },
   "outputs": [],
   "source": []
  }
 ],
 "metadata": {
  "kernelspec": {
   "display_name": "Python 3",
   "language": "python",
   "name": "python3"
  },
  "language_info": {
   "codemirror_mode": {
    "name": "ipython",
    "version": 3
   },
   "file_extension": ".py",
   "mimetype": "text/x-python",
   "name": "python",
   "nbconvert_exporter": "python",
   "pygments_lexer": "ipython3",
   "version": "3.7.7"
  }
 },
 "nbformat": 4,
 "nbformat_minor": 1
}