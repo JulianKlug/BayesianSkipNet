{
 "cells": [
  {
   "cell_type": "code",
   "execution_count": null,
   "metadata": {},
   "outputs": [],
   "source": [
    "import matplotlib.pyplot as plt\n",
    "import numpy as np\n",
    "from gsprep.visual_tools.visual import display\n",
    "import nibabel as nib\n",
    "from copy import copy"
   ]
  },
  {
   "cell_type": "code",
   "execution_count": null,
   "metadata": {
    "pycharm": {
     "name": "#%%\n"
    }
   },
   "outputs": [],
   "source": [
    "# validation 13\n",
    "bg_path = '/Users/julian/temp/BAYESIAN_SKIP_MODEL_EVALUATION/geneva_stroke_dataset/convolutional_bayesian_skip/validation_evaluation/13_img.nii.gz'\n",
    "lbl_path = '/Users/julian/temp/BAYESIAN_SKIP_MODEL_EVALUATION/geneva_stroke_dataset/convolutional_bayesian_skip/validation_evaluation/13_lbl.nii.gz'\n",
    "conv_b_pred_path = '/Users/julian/temp/BAYESIAN_SKIP_MODEL_EVALUATION/geneva_stroke_dataset/convolutional_bayesian_skip/validation_evaluation/13_pred.nii.gz'\n",
    "baseline_pred_path = '/Users/julian/temp/BAYESIAN_SKIP_MODEL_EVALUATION/geneva_stroke_dataset/baseline_with_prior_as_input/validation_evaluation/13_pred.nii.gz'\n",
    "prior_path = '/Users/julian/temp/BAYESIAN_SKIP_MODEL_EVALUATION/geneva_stroke_dataset/baseline_with_prior_as_input/validation_evaluation/13_prior.nii.gz'"
   ]
  },
  {
   "cell_type": "code",
   "execution_count": null,
   "metadata": {},
   "outputs": [],
   "source": [
    "bg = nib.load(bg_path).get_fdata()\n",
    "lbl = nib.load(lbl_path).get_fdata()\n",
    "conv_b_pred = nib.load(conv_b_pred_path).get_fdata()\n",
    "baseline_pred = nib.load(baseline_pred_path).get_fdata()\n",
    "prior = nib.load(prior_path).get_fdata()\n"
   ]
  },
  {
   "cell_type": "code",
   "execution_count": null,
   "metadata": {},
   "outputs": [],
   "source": [
    "gsd_valid13_conv_bayes_fig = plt.figure(figsize=(10, 10))\n",
    "palette_bg = copy(plt.cm.gray)\n",
    "palette_bg.set_under('black', alpha=1)\n",
    "\n",
    "palette_lbl = copy(plt.cm.Blues)\n",
    "palette_lbl.set_under('k', alpha=0)\n",
    "# palette_lbl.set_over('#cd2488', alpha=1)\n",
    "\n",
    "plt.imshow(bg[..., 45], cmap=palette_bg, clim=[-0.5,6])\n",
    "plt.imshow(lbl[..., 45], alpha=1, cmap=palette_lbl, interpolation=None, clim=[0.9,0.91])\n",
    "\n",
    "# palette_prior = copy(plt.cm.gray)\n",
    "# palette_prior.set_under('k', alpha=0)\n",
    "# palette_prior.set_over('#f57542', alpha=1)\n",
    "#\n",
    "# plt.imshow(prior[..., 45], alpha=0.5, cmap=palette_prior, interpolation=None, clim=[0.9,0.91])\n",
    "\n",
    "\n",
    "palette_pred = copy(plt.cm.Reds)\n",
    "palette_pred.set_under('k', alpha=0)\n",
    "# palette_pred.set_over('#f57542', alpha=1)\n",
    "\n",
    "plt.imshow(conv_b_pred[..., 45], alpha=0.7, cmap=palette_pred, interpolation=None, clim=[0.9,0.91])\n",
    "\n",
    "gsd_valid13_conv_bayes_fig.savefig('../static/figures/sample_predictions/gsd_valid13_conv_bayes_fig.eps', format='eps')\n",
    "\n"
   ]
  },
  {
   "cell_type": "code",
   "execution_count": null,
   "outputs": [],
   "source": [
    "gsd_valid13_baseline_fig = plt.figure(figsize=(10, 10))\n",
    "\n",
    "palette_bg = copy(plt.cm.gray)\n",
    "palette_bg.set_under('black', alpha=1)\n",
    "\n",
    "palette_lbl = copy(plt.cm.Blues)\n",
    "palette_lbl.set_under('k', alpha=0)\n",
    "# palette_lbl.set_over('#cd2488', alpha=1)\n",
    "\n",
    "plt.imshow(bg[..., 45], cmap=palette_bg, clim=[-0.5,6])\n",
    "plt.imshow(lbl[..., 45], alpha=1, cmap=palette_lbl, interpolation=None, clim=[0.9,0.91])\n",
    "\n",
    "palette_pred = copy(plt.cm.Reds)\n",
    "palette_pred.set_under('k', alpha=0)\n",
    "# palette_pred.set_over('#f57542', alpha=1)\n",
    "\n",
    "plt.imshow(baseline_pred[..., 45], alpha=0.7, cmap=palette_pred, interpolation=None, clim=[0.9,0.91])\n",
    "\n",
    "gsd_valid13_baseline_fig.savefig('../static/figures/sample_predictions/gsd_valid13_baseline_fig.eps', format='eps')\n"
   ],
   "metadata": {
    "collapsed": false,
    "pycharm": {
     "name": "#%%\n"
    }
   }
  },
  {
   "cell_type": "code",
   "execution_count": null,
   "outputs": [],
   "source": [
    "# test 19\n",
    "bg_path = '/Users/julian/temp/BAYESIAN_SKIP_MODEL_EVALUATION/geneva_stroke_dataset/baseline_with_prior_as_input/test_evaluation/19_img.nii.gz'\n",
    "lbl_path = '/Users/julian/temp/BAYESIAN_SKIP_MODEL_EVALUATION/geneva_stroke_dataset/baseline_with_prior_as_input/test_evaluation/19_lbl.nii.gz'\n",
    "conv_b_pred_path = '/Users/julian/temp/BAYESIAN_SKIP_MODEL_EVALUATION/geneva_stroke_dataset/convolutional_bayesian_skip/test_evaluation/19_pred.nii.gz'\n",
    "baseline_pred_path = '/Users/julian/temp/BAYESIAN_SKIP_MODEL_EVALUATION/geneva_stroke_dataset/baseline_with_prior_as_input/test_evaluation/19_pred.nii.gz'\n",
    "prior_path= '/Users/julian/temp/BAYESIAN_SKIP_MODEL_EVALUATION/geneva_stroke_dataset/baseline_with_prior_as_input/test_evaluation/19_prior.nii.gz'\n",
    "\n",
    "z_idx = 48"
   ],
   "metadata": {
    "collapsed": false,
    "pycharm": {
     "name": "#%%\n"
    }
   }
  },
  {
   "cell_type": "code",
   "execution_count": null,
   "outputs": [],
   "source": [
    "\n",
    "bg = nib.load(bg_path).get_fdata()\n",
    "lbl = nib.load(lbl_path).get_fdata()\n",
    "conv_b_pred = nib.load(conv_b_pred_path).get_fdata()\n",
    "baseline_pred = nib.load(baseline_pred_path).get_fdata()\n",
    "prior = nib.load(prior_path).get_fdata()\n"
   ],
   "metadata": {
    "collapsed": false,
    "pycharm": {
     "name": "#%%\n"
    }
   }
  },
  {
   "cell_type": "code",
   "execution_count": null,
   "outputs": [],
   "source": [
    "gsd_test19_conv_bayes_fig = plt.figure(figsize=(10, 10))\n",
    "palette_bg = copy(plt.cm.gray)\n",
    "palette_bg.set_under('black', alpha=1)\n",
    "\n",
    "palette_lbl = copy(plt.cm.Blues)\n",
    "palette_lbl.set_under('k', alpha=0)\n",
    "# palette_lbl.set_over('#cd2488', alpha=1)\n",
    "\n",
    "plt.imshow(bg[..., z_idx], cmap=palette_bg, clim=[-0.5,6])\n",
    "plt.imshow(lbl[..., z_idx], alpha=1, cmap=palette_lbl, interpolation=None, clim=[0.9,0.91])\n",
    "\n",
    "# palette_prior = copy(plt.cm.gray)\n",
    "# palette_prior.set_under('k', alpha=0)\n",
    "# palette_prior.set_over('#f57542', alpha=1)\n",
    "#\n",
    "# plt.imshow(prior[..., 45], alpha=0.5, cmap=palette_prior, interpolation=None, clim=[0.9,0.91])\n",
    "\n",
    "\n",
    "palette_pred = copy(plt.cm.Reds)\n",
    "palette_pred.set_under('k', alpha=0)\n",
    "# palette_pred.set_over('#f57542', alpha=1)\n",
    "\n",
    "plt.imshow(conv_b_pred[..., z_idx], alpha=0.7, cmap=palette_pred, interpolation=None, clim=[0.9,0.91])\n",
    "\n",
    "gsd_test19_conv_bayes_fig.savefig('../static/figures/sample_predictions/gsd_test19_conv_bayes_fig.eps', format='eps')\n",
    "\n"
   ],
   "metadata": {
    "collapsed": false,
    "pycharm": {
     "name": "#%%\n"
    }
   }
  },
  {
   "cell_type": "code",
   "execution_count": null,
   "outputs": [],
   "source": [
    "gsd_test19_baseline_fig = plt.figure(figsize=(10, 10))\n",
    "\n",
    "palette_bg = copy(plt.cm.gray)\n",
    "palette_bg.set_under('black', alpha=1)\n",
    "\n",
    "palette_lbl = copy(plt.cm.Blues)\n",
    "palette_lbl.set_under('k', alpha=0)\n",
    "# palette_lbl.set_over('#cd2488', alpha=1)\n",
    "\n",
    "plt.imshow(bg[..., z_idx], cmap=palette_bg, clim=[-0.5,6])\n",
    "plt.imshow(lbl[..., z_idx], alpha=1, cmap=palette_lbl, interpolation=None, clim=[0.9,0.91])\n",
    "\n",
    "palette_pred = copy(plt.cm.Reds)\n",
    "palette_pred.set_under('k', alpha=0)\n",
    "# palette_pred.set_over('#f57542', alpha=1)\n",
    "\n",
    "plt.imshow(baseline_pred[..., z_idx], alpha=0.7, cmap=palette_pred, interpolation=None, clim=[0.9,0.91])\n",
    "\n",
    "gsd_test19_baseline_fig.savefig('../static/figures/sample_predictions/gsd_test19_baseline_fig.eps', format='eps')\n",
    "\n",
    "\n"
   ],
   "metadata": {
    "collapsed": false,
    "pycharm": {
     "name": "#%%\n"
    }
   }
  },
  {
   "cell_type": "markdown",
   "source": [
    "Not well working examples\n",
    "\n"
   ],
   "metadata": {
    "collapsed": false,
    "pycharm": {
     "name": "#%% md\n"
    }
   }
  },
  {
   "cell_type": "code",
   "execution_count": null,
   "outputs": [],
   "source": [
    "# validation 12\n",
    "bg_path = '/Users/julian/temp/BAYESIAN_SKIP_MODEL_EVALUATION/geneva_stroke_dataset/convolutional_bayesian_skip/validation_evaluation/12_img.nii.gz'\n",
    "lbl_path = '/Users/julian/temp/BAYESIAN_SKIP_MODEL_EVALUATION/geneva_stroke_dataset/convolutional_bayesian_skip/validation_evaluation/12_lbl.nii.gz'"
   ],
   "metadata": {
    "collapsed": false,
    "pycharm": {
     "name": "#%%\n"
    }
   }
  },
  {
   "cell_type": "code",
   "execution_count": null,
   "outputs": [],
   "source": [
    "bg = nib.load(bg_path).get_fdata()\n",
    "lbl = nib.load(lbl_path).get_fdata()\n"
   ],
   "metadata": {
    "collapsed": false,
    "pycharm": {
     "name": "#%%\n"
    }
   }
  },
  {
   "cell_type": "code",
   "execution_count": null,
   "outputs": [],
   "source": [
    "z_idx = 27\n",
    "gsd_valid12_lbl_fig = plt.figure(figsize=(10, 10))\n",
    "\n",
    "palette_bg = copy(plt.cm.gray)\n",
    "palette_bg.set_under('black', alpha=1)\n",
    "\n",
    "palette_lbl = copy(plt.cm.Blues)\n",
    "palette_lbl.set_under('blue', alpha=0)\n",
    "# palette_lbl.set_over('#cd2488', alpha=1)\n",
    "\n",
    "plt.imshow(bg[..., z_idx], cmap=palette_bg, clim=[-0.5,6])\n",
    "plt.imshow(lbl[..., z_idx], alpha=1, cmap=palette_lbl, interpolation=None, clim=[0.1,0.91])\n",
    "\n",
    "\n",
    "gsd_valid12_lbl_fig.savefig('../static/figures/sample_predictions/gsd_valid12_lbl_fig.eps', format='eps')\n"
   ],
   "metadata": {
    "collapsed": false,
    "pycharm": {
     "name": "#%%\n"
    }
   }
  },
  {
   "cell_type": "code",
   "execution_count": null,
   "outputs": [],
   "source": [
    "# validation 15\n",
    "bg_path = '/Users/julian/temp/BAYESIAN_SKIP_MODEL_EVALUATION/geneva_stroke_dataset/convolutional_bayesian_skip/validation_evaluation/15_img.nii.gz'\n",
    "lbl_path = '/Users/julian/temp/BAYESIAN_SKIP_MODEL_EVALUATION/geneva_stroke_dataset/convolutional_bayesian_skip/validation_evaluation/15_lbl.nii.gz'"
   ],
   "metadata": {
    "collapsed": false,
    "pycharm": {
     "name": "#%%\n"
    }
   }
  },
  {
   "cell_type": "code",
   "execution_count": null,
   "outputs": [],
   "source": [
    "bg = nib.load(bg_path).get_fdata()\n",
    "lbl = nib.load(lbl_path).get_fdata()\n",
    "\n"
   ],
   "metadata": {
    "collapsed": false,
    "pycharm": {
     "name": "#%%\n"
    }
   }
  },
  {
   "cell_type": "code",
   "execution_count": null,
   "outputs": [],
   "source": [
    "z_idx = 45\n",
    "gsd_valid15_lbl_fig = plt.figure(figsize=(10, 10))\n",
    "\n",
    "palette_bg = copy(plt.cm.gray)\n",
    "palette_bg.set_under('black', alpha=1)\n",
    "\n",
    "palette_lbl = copy(plt.cm.Blues)\n",
    "palette_lbl.set_under('blue', alpha=0)\n",
    "# palette_lbl.set_over('#cd2488', alpha=1)\n",
    "\n",
    "plt.imshow(bg[..., z_idx], cmap=palette_bg, clim=[-0.5,6])\n",
    "plt.imshow(lbl[..., z_idx], alpha=1, cmap=palette_lbl, interpolation=None, clim=[0.1,1])\n",
    "\n",
    "\n",
    "gsd_valid15_lbl_fig.savefig('../static/figures/sample_predictions/gsd_valid15_lbl_fig.eps', format='eps')\n",
    "\n"
   ],
   "metadata": {
    "collapsed": false,
    "pycharm": {
     "name": "#%%\n"
    }
   }
  },
  {
   "cell_type": "code",
   "execution_count": null,
   "outputs": [],
   "source": [],
   "metadata": {
    "collapsed": false,
    "pycharm": {
     "name": "#%%\n"
    }
   }
  },
  {
   "cell_type": "code",
   "execution_count": null,
   "outputs": [],
   "source": [
    "\n"
   ],
   "metadata": {
    "collapsed": false,
    "pycharm": {
     "name": "#%%\n"
    }
   }
  },
  {
   "cell_type": "code",
   "execution_count": null,
   "metadata": {},
   "outputs": [],
   "source": []
  }
 ],
 "metadata": {
  "kernelspec": {
   "display_name": "Python 3",
   "language": "python",
   "name": "python3"
  },
  "language_info": {
   "codemirror_mode": {
    "name": "ipython",
    "version": 3
   },
   "file_extension": ".py",
   "mimetype": "text/x-python",
   "name": "python",
   "nbconvert_exporter": "python",
   "pygments_lexer": "ipython3",
   "version": "3.7.7"
  }
 },
 "nbformat": 4,
 "nbformat_minor": 1
}